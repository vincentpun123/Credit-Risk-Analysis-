{
 "cells": [
  {
   "cell_type": "markdown",
   "metadata": {},
   "source": [
    "# Credit Card Company - Autoencoders \n",
    "MSDS 411<Br>\n",
    "Assignment 3<br>\n",
    "Prepared by Vincent Pun"
   ]
  },
  {
   "cell_type": "code",
   "execution_count": 1,
   "metadata": {},
   "outputs": [
    {
     "name": "stderr",
     "output_type": "stream",
     "text": [
      "Loading required package: lattice\n",
      "Loading required package: robustbase\n",
      "\n",
      "Attaching package: ‘ModelMetrics’\n",
      "\n",
      "The following object is masked from ‘package:base’:\n",
      "\n",
      "    kappa\n",
      "\n",
      "Loading required package: carData\n",
      "Parse with reader=readr : dataset_31_credit-g.arff\n",
      "Loading required package: readr\n",
      "header: 0.039000; preproc: 0.004000; data: 0.058000; postproc: 0.001000; total: 0.102000\n"
     ]
    },
    {
     "name": "stdout",
     "output_type": "stream",
     "text": [
      "\n",
      "\n",
      "Stucture of initial credit data frame:\n",
      "'data.frame':\t1000 obs. of  21 variables:\n",
      " $ checking_status       : Factor w/ 4 levels \"<0\",\"0<=X<200\",..: 1 2 4 1 1 4 4 2 4 2 ...\n",
      " $ duration              : num  6 48 12 42 24 36 24 36 12 30 ...\n",
      " $ credit_history        : Factor w/ 5 levels \"no credits/all paid\",..: 5 3 5 3 4 3 3 3 3 5 ...\n",
      " $ purpose               : Factor w/ 11 levels \"new car\",\"used car\",..: 4 4 7 3 1 7 3 2 4 1 ...\n",
      " $ credit_amount         : num  1169 5951 2096 7882 4870 ...\n",
      " $ savings_status        : Factor w/ 5 levels \"<100\",\"100<=X<500\",..: 5 1 1 1 1 5 3 1 4 1 ...\n",
      " $ employment            : Factor w/ 5 levels \"unemployed\",\"<1\",..: 5 3 4 4 3 3 5 3 4 1 ...\n",
      " $ installment_commitment: num  4 2 2 2 3 2 3 2 2 4 ...\n",
      " $ personal_status       : Factor w/ 5 levels \"male div/sep\",..: 3 2 3 3 3 3 3 3 1 4 ...\n",
      " $ other_parties         : Factor w/ 3 levels \"none\",\"co applicant\",..: 1 1 1 3 1 1 1 1 1 1 ...\n",
      " $ residence_since       : num  4 2 3 4 4 4 4 2 4 2 ...\n",
      " $ property_magnitude    : Factor w/ 4 levels \"real estate\",..: 1 1 1 2 4 4 2 3 1 3 ...\n",
      " $ age                   : num  67 22 49 45 53 35 53 35 61 28 ...\n",
      " $ other_payment_plans   : Factor w/ 3 levels \"bank\",\"stores\",..: 3 3 3 3 3 3 3 3 3 3 ...\n",
      " $ housing               : Factor w/ 3 levels \"rent\",\"own\",\"for free\": 2 2 2 3 3 3 2 1 2 2 ...\n",
      " $ existing_credits      : num  2 1 1 1 2 1 1 1 1 2 ...\n",
      " $ job                   : Factor w/ 4 levels \"unemp/unskilled non res\",..: 3 3 2 3 3 2 3 4 2 4 ...\n",
      " $ num_dependents        : num  1 1 2 2 2 2 1 1 1 1 ...\n",
      " $ own_telephone         : Factor w/ 2 levels \"none\",\"yes\": 2 1 1 1 1 2 1 2 1 1 ...\n",
      " $ foreign_worker        : Factor w/ 2 levels \"yes\",\"no\": 1 1 1 1 1 1 1 1 1 1 ...\n",
      " $ class                 : Factor w/ 2 levels \"good\",\"bad\": 1 2 1 1 2 1 1 1 1 2 ...\n",
      "NULL\n",
      "\n",
      "\n",
      "Summary of initial credit data frame:\n",
      "    checking_status    duration                           credit_history\n",
      " <0         :274    Min.   : 4.0   no credits/all paid           : 40   \n",
      " 0<=X<200   :269    1st Qu.:12.0   all paid                      : 49   \n",
      " >=200      : 63    Median :18.0   existing paid                 :530   \n",
      " no checking:394    Mean   :20.9   delayed previously            : 88   \n",
      "                    3rd Qu.:24.0   critical/other existing credit:293   \n",
      "                    Max.   :72.0                                        \n",
      "                                                                        \n",
      "                purpose    credit_amount            savings_status\n",
      " radio/tv           :280   Min.   :  250   <100            :603   \n",
      " new car            :234   1st Qu.: 1366   100<=X<500      :103   \n",
      " furniture/equipment:181   Median : 2320   500<=X<1000     : 63   \n",
      " used car           :103   Mean   : 3271   >=1000          : 48   \n",
      " business           : 97   3rd Qu.: 3972   no known savings:183   \n",
      " education          : 50   Max.   :18424                          \n",
      " (Other)            : 55                                          \n",
      "      employment  installment_commitment           personal_status\n",
      " unemployed: 62   Min.   :1.000          male div/sep      : 50   \n",
      " <1        :172   1st Qu.:2.000          female div/dep/mar:310   \n",
      " 1<=X<4    :339   Median :3.000          male single       :548   \n",
      " 4<=X<7    :174   Mean   :2.973          male mar/wid      : 92   \n",
      " >=7       :253   3rd Qu.:4.000          female single     :  0   \n",
      "                  Max.   :4.000                                   \n",
      "                                                                  \n",
      "      other_parties residence_since         property_magnitude      age       \n",
      " none        :907   Min.   :1.000   real estate      :282      Min.   :19.00  \n",
      " co applicant: 41   1st Qu.:2.000   life insurance   :232      1st Qu.:27.00  \n",
      " guarantor   : 52   Median :3.000   car              :332      Median :33.00  \n",
      "                    Mean   :2.845   no known property:154      Mean   :35.55  \n",
      "                    3rd Qu.:4.000                              3rd Qu.:42.00  \n",
      "                    Max.   :4.000                              Max.   :75.00  \n",
      "                                                                              \n",
      " other_payment_plans     housing    existing_credits\n",
      " bank  :139          rent    :179   Min.   :1.000   \n",
      " stores: 47          own     :713   1st Qu.:1.000   \n",
      " none  :814          for free:108   Median :1.000   \n",
      "                                    Mean   :1.407   \n",
      "                                    3rd Qu.:2.000   \n",
      "                                    Max.   :4.000   \n",
      "                                                    \n",
      "                        job      num_dependents  own_telephone foreign_worker\n",
      " unemp/unskilled non res  : 22   Min.   :1.000   none:596      yes:963       \n",
      " unskilled resident       :200   1st Qu.:1.000   yes :404      no : 37       \n",
      " skilled                  :630   Median :1.000                               \n",
      " high qualif/self emp/mgmt:148   Mean   :1.155                               \n",
      "                                 3rd Qu.:1.000                               \n",
      "                                 Max.   :2.000                               \n",
      "                                                                             \n",
      "  class    \n",
      " good:700  \n",
      " bad :300  \n",
      "           \n",
      "           \n",
      "           \n",
      "           \n",
      "           \n"
     ]
    }
   ],
   "source": [
    "library(farff) # for reading arff file\n",
    "library(cvTools) # explicit creation of folds for cross-validation\n",
    "library(ModelMetrics) # used for precision-recall evaluation of classifiers\n",
    "library(car) # for recode function\n",
    "\n",
    "\n",
    "# optimal cutoff for predicting bad credit set as\n",
    "# (cost of false negative/cost of false positive) times\n",
    "# (prevalence of positive/prevalence of negative)\n",
    "\n",
    "#CUTOFF CLASSIFICATION AND COST MATRIX----\n",
    "# (1/5)*(.3/.7) = 0.086\n",
    "CUTOFF = 0.086 #Cutoff Classification \n",
    "COSTMATRIX = matrix(c(0,5,1,0), nrow = 2, ncol = 2, byrow = TRUE) #Cost Matrix \n",
    "\n",
    "#CREDIT ARFF DATASET----\n",
    "credit = readARFF(\"dataset_31_credit-g.arff\")\n",
    "\n",
    "# write to comma-delimited text for review in Excel\n",
    "write.csv(credit, file = \"credit.csv\", row.names = FALSE)\n",
    "\n",
    "# check structure of the data frame\n",
    "cat(\"\\n\\nStucture of initial credit data frame:\\n\")\n",
    "print(str(credit))\n",
    "\n",
    "# quick summary of credit data\n",
    "cat(\"\\n\\nSummary of initial credit data frame:\\n\")\n",
    "print(summary(credit))"
   ]
  },
  {
   "cell_type": "code",
   "execution_count": 2,
   "metadata": {},
   "outputs": [
    {
     "name": "stdout",
     "output_type": "stream",
     "text": [
      "\n",
      "\n",
      "Problems with personal_status, no single females:\n",
      "\n",
      "      male div/sep female div/dep/mar        male single       male mar/wid \n",
      "                50                310                548                 92 \n",
      "     female single \n",
      "                 0 \n"
     ]
    }
   ],
   "source": [
    "#DATA PREPARATION ----\n",
    "\n",
    "# personal_status has level \"female single\" with no observations\n",
    "cat(\"\\n\\nProblems with personal_status, no single females:\\n\")\n",
    "print(table(credit$personal_status))\n",
    "\n",
    "# fix this prior to analysis\n",
    "#level 5 (female single) has NO OBSERVATIONS in this study, so REMOVE \n",
    "credit$personal_status = factor(as.numeric(credit$personal_status),\n",
    "    levels = c(1,2,3,4), \n",
    "    labels = c(\"male div/sep\",\"female div/dep/mar\",\"male single\",\"male mar/wid\"))"
   ]
  },
  {
   "cell_type": "code",
   "execution_count": 3,
   "metadata": {},
   "outputs": [
    {
     "name": "stdout",
     "output_type": "stream",
     "text": [
      "\n",
      "\n",
      "Problems with purpose, low- and no-frequency levels:\n",
      "\n",
      "            new car            used car furniture/equipment            radio/tv \n",
      "                234                 103                 181                 280 \n",
      " domestic appliance             repairs           education            vacation \n",
      "                 12                  22                  50                   0 \n",
      "         retraining            business               other \n",
      "                  9                  97                  12 \n"
     ]
    }
   ],
   "source": [
    "#Purpose, low and no end frequency levels\n",
    "cat(\"\\n\\nProblems with purpose, low- and no-frequency levels:\\n\")\n",
    "print(table(credit$purpose))\n",
    "# keep first four classes: \"new car\", \"used car\", \"furniture/equipment\", \"radio/tv\"\n",
    "#Classes with low frequency, collapse these into the \"other\" classificaiton\n",
    "# keep \"education\" and \"business\" with new values \n",
    "# add \"retraining\" to \"education\"\n",
    "# gather all other levels into \"other\"\n",
    "credit$purpose = recode(credit$purpose, '\"new car\" = \"new car\";\n",
    "    \"used car\" = \"used car\"; \n",
    "    \"furniture/equipment\" = \"furniture/equipment\";\n",
    "    \"radio/tv\" = \"radio/tv\"; \n",
    "    \"education\" = \"education\"; \"retraining\" = \"education\";\n",
    "    \"business\" = \"business\"; \n",
    "    \"domestic appliance\" = \"other\"; \"repairs\" = \"other\"; \"vacation\" = \"other\"; \n",
    "    \"other\" = \"other\" ',\n",
    "    levels = c(\"new car\",\"used car\",\"furniture/equipment\",\"radio/tv\", \n",
    "    \"education\",\"business\",\"other\" ))"
   ]
  },
  {
   "cell_type": "code",
   "execution_count": 4,
   "metadata": {},
   "outputs": [],
   "source": [
    "# credit_amount is highly skewed... use log_credit_amount instead\n",
    "credit$log_credit_amount = log(credit$credit_amount)    "
   ]
  },
  {
   "cell_type": "code",
   "execution_count": 5,
   "metadata": {},
   "outputs": [
    {
     "data": {
      "image/png": "[encoded data removed]",
      "text/plain": [
       "Plot with title “Boxplot - credit_amount”"
      ]
     },
     "metadata": {},
     "output_type": "display_data"
    }
   ],
   "source": [
    "#PARAMETERS ----\n",
    "\n",
    "par(mfrow = c(2,3))\n",
    "\n",
    "\n",
    "#######----ORIGINAL DATA----#########\n",
    "#histogram\n",
    "hist(credit$credit_amount,\n",
    "     main = \"Histogram - credit_amount\",\n",
    "     xlab = \"(Original Data)\",\n",
    "     col = \"steelblue\")\n",
    "\n",
    "#qqplot \n",
    "qqnorm(credit$credit_amount,\n",
    "       col = ifelse(credit$credit_amount %in% \n",
    "                      c(boxplot.stats(credit$credit_amount)$out), #red for outliers\n",
    "                    \"red\",\"black\"),\n",
    "       xlab = \"(Original Data)\")\n",
    "\n",
    "qqline(credit$credit_amount)\n",
    "\n",
    "#boxplot\n",
    "boxplot(credit$credit_amount,\n",
    "        main = \"Boxplot - credit_amount\",\n",
    "        ylab = \"Meters\",\n",
    "        xlab = \"(Original Data)\")\n",
    "\n",
    "#######----NO OUTLIERS----#########\n",
    "\n",
    "#histogram\n",
    "hist(credit$log_credit_amount,\n",
    "     main = \"Histogram - credit_amount\",\n",
    "     xlab = \"(Removed Outliers)\",\n",
    "     col = \"steelblue\")\n",
    "\n",
    "#qqplot \n",
    "qqnorm(credit$log_credit_amount,\n",
    "       col = ifelse(credit$log_credit_amount %in% \n",
    "                      c(boxplot.stats(credit$log_credit_amount)$out), #red for outliers\n",
    "                    \"red\",\"black\"),\n",
    "       xlab = \"(Removed Outliers)\")\n",
    "\n",
    "qqline(credit$log_credit_amount)\n",
    "\n",
    "#boxplot\n",
    "boxplot(credit$log_credit_amount,\n",
    "        main = \"Boxplot - credit_amount\",\n",
    "        ylab = \"Meters\",\n",
    "        xlab = \"(Removed Outliers)\")\n"
   ]
  },
  {
   "cell_type": "code",
   "execution_count": 6,
   "metadata": {},
   "outputs": [
    {
     "name": "stdout",
     "output_type": "stream",
     "text": [
      "\n",
      "\n",
      "Problems with purpose, low- and no-frequency levels:\n",
      "\n",
      "            new car            used car furniture/equipment            radio/tv \n",
      "                234                 103                 181                 280 \n",
      "          education            business               other \n",
      "                 59                  97                  46 \n"
     ]
    }
   ],
   "source": [
    "#Purpose, low and no end frequency levels\n",
    "cat(\"\\n\\nProblems with purpose, low- and no-frequency levels:\\n\")\n",
    "print(table(credit$purpose))\n",
    "# keep first four classes: \"new car\", \"used car\", \"furniture/equipment\", \"radio/tv\"\n",
    "#Classes with low frequency, collapse these into the \"other\" classificaiton\n",
    "# keep \"education\" and \"business\" with new values \n",
    "# add \"retraining\" to \"education\"\n",
    "# gather all other levels into \"other\"\n",
    "credit$purpose = recode(credit$purpose, '\"new car\" = \"new car\";\n",
    "    \"used car\" = \"used car\"; \n",
    "    \"furniture/equipment\" = \"furniture/equipment\";\n",
    "    \"radio/tv\" = \"radio/tv\"; \n",
    "    \"education\" = \"education\"; \"retraining\" = \"education\";\n",
    "    \"business\" = \"business\"; \n",
    "    \"domestic appliance\" = \"other\"; \"repairs\" = \"other\"; \"vacation\" = \"other\"; \n",
    "    \"other\" = \"other\" ',\n",
    "    levels = c(\"new car\",\"used car\",\"furniture/equipment\",\"radio/tv\", \n",
    "    \"education\",\"business\",\"other\" ))"
   ]
  },
  {
   "cell_type": "code",
   "execution_count": 7,
   "metadata": {},
   "outputs": [
    {
     "name": "stdout",
     "output_type": "stream",
     "text": [
      "\n",
      "\n",
      "Summary of revised credit data frame:\n",
      "    checking_status    duration                           credit_history\n",
      " <0         :274    Min.   : 4.0   no credits/all paid           : 40   \n",
      " 0<=X<200   :269    1st Qu.:12.0   all paid                      : 49   \n",
      " >=200      : 63    Median :18.0   existing paid                 :530   \n",
      " no checking:394    Mean   :20.9   delayed previously            : 88   \n",
      "                    3rd Qu.:24.0   critical/other existing credit:293   \n",
      "                    Max.   :72.0                                        \n",
      "                                                                        \n",
      "                purpose    credit_amount            savings_status\n",
      " new car            :234   Min.   :  250   <100            :603   \n",
      " used car           :103   1st Qu.: 1366   100<=X<500      :103   \n",
      " furniture/equipment:181   Median : 2320   500<=X<1000     : 63   \n",
      " radio/tv           :280   Mean   : 3271   >=1000          : 48   \n",
      " education          : 59   3rd Qu.: 3972   no known savings:183   \n",
      " business           : 97   Max.   :18424                          \n",
      " other              : 46                                          \n",
      "      employment  installment_commitment           personal_status\n",
      " unemployed: 62   Min.   :1.000          male div/sep      : 50   \n",
      " <1        :172   1st Qu.:2.000          female div/dep/mar:310   \n",
      " 1<=X<4    :339   Median :3.000          male single       :548   \n",
      " 4<=X<7    :174   Mean   :2.973          male mar/wid      : 92   \n",
      " >=7       :253   3rd Qu.:4.000                                   \n",
      "                  Max.   :4.000                                   \n",
      "                                                                  \n",
      "      other_parties residence_since         property_magnitude      age       \n",
      " none        :907   Min.   :1.000   real estate      :282      Min.   :19.00  \n",
      " co applicant: 41   1st Qu.:2.000   life insurance   :232      1st Qu.:27.00  \n",
      " guarantor   : 52   Median :3.000   car              :332      Median :33.00  \n",
      "                    Mean   :2.845   no known property:154      Mean   :35.55  \n",
      "                    3rd Qu.:4.000                              3rd Qu.:42.00  \n",
      "                    Max.   :4.000                              Max.   :75.00  \n",
      "                                                                              \n",
      " other_payment_plans     housing    existing_credits\n",
      " bank  :139          rent    :179   Min.   :1.000   \n",
      " stores: 47          own     :713   1st Qu.:1.000   \n",
      " none  :814          for free:108   Median :1.000   \n",
      "                                    Mean   :1.407   \n",
      "                                    3rd Qu.:2.000   \n",
      "                                    Max.   :4.000   \n",
      "                                                    \n",
      "                        job      num_dependents  own_telephone foreign_worker\n",
      " unemp/unskilled non res  : 22   Min.   :1.000   none:596      yes:963       \n",
      " unskilled resident       :200   1st Qu.:1.000   yes :404      no : 37       \n",
      " skilled                  :630   Median :1.000                               \n",
      " high qualif/self emp/mgmt:148   Mean   :1.155                               \n",
      "                                 3rd Qu.:1.000                               \n",
      "                                 Max.   :2.000                               \n",
      "                                                                             \n",
      "  class     log_credit_amount\n",
      " good:700   Min.   :5.521    \n",
      " bad :300   1st Qu.:7.219    \n",
      "            Median :7.749    \n",
      "            Mean   :7.789    \n",
      "            3rd Qu.:8.287    \n",
      "            Max.   :9.821    \n",
      "                             \n"
     ]
    }
   ],
   "source": [
    "# summary of transformed credit data\n",
    "cat(\"\\n\\nSummary of revised credit data frame:\\n\")\n",
    "print(summary(credit))"
   ]
  },
  {
   "cell_type": "markdown",
   "metadata": {},
   "source": [
    "Baseline Logistic Regression"
   ]
  },
  {
   "cell_type": "code",
   "execution_count": 8,
   "metadata": {},
   "outputs": [],
   "source": [
    "# logistic regression evaluated with cross-validation\n",
    "\n",
    "# include explanatory variables except foreign_worker\n",
    "# (only 37 of 100 cases are foreign workers)\n",
    "credit_model = \"class ~ checking_status + duration + \n",
    "    credit_history + purpose + log_credit_amount + savings_status + \n",
    "    employment + installment_commitment + personal_status +        \n",
    "    other_parties + residence_since + property_magnitude +\n",
    "    age + other_payment_plans + housing + existing_credits +      \n",
    "    job + num_dependents + own_telephone\" \n",
    "\n",
    "#cross validation folds, 5 fold cross validation\n",
    "set.seed(1)\n",
    "nfolds = 5\n",
    "folds = cvFolds(nrow(credit), K = nfolds) # creates list of indices\n",
    "\n",
    "#compute precision, recall, f1 score, and cost ----\n",
    "#BASE (0 cutoff)\n",
    "baseprecision = rep(0, nfolds)  # precision with 0 cutoff\n",
    "baserecall = rep(0, nfolds)  # recall with  0 cutoff\n",
    "basef1Score = rep(0, nfolds)  # f1Score with 0 cutoff\n",
    "basecost = rep(0, nfolds)  # total cost with 0 cutoff\n",
    "\n",
    "#CUTOFF\n",
    "ruleprecision = rep(0, nfolds)  # precision with CUTOFF rule\n",
    "rulerecall = rep(0, nfolds)  # recall with CUTOFF rule\n",
    "rulef1Score = rep(0, nfolds)  # f1Score with CUTOFF rule\n",
    "rulecost = rep(0, nfolds)  # total cost with CUTOFF rule\n",
    "\n",
    "#looping, each fold, compute statistics for evaluating accuracy of cross validation and evaluate costs \n",
    "for (ifold in seq(nfolds)) {\n",
    "    # cat(\"\\n\\nSUMMARY FOR IFOLD:\", ifold) # checking in development\n",
    "    # print(summary(credit[(folds$which == ifold),]))\n",
    "  \n",
    "    # train model on all folds except ifold\n",
    "    train = credit[(folds$which != ifold), ]\n",
    "    \n",
    "    #test\n",
    "    test = credit[(folds$which == ifold),]\n",
    "    \n",
    "    #logistic model\n",
    "    credit_fit = glm(credit_model, family = binomial,\n",
    "        data = train)\n",
    "    \n",
    "    # evaluate on fold ifold    \n",
    "    # predict on test \n",
    "    credit_predict = predict.glm(credit_fit, \n",
    "        newdata = test, type = \"response\") \n",
    "    \n",
    "    #BASE \n",
    "    #CUTOFF = 0.5 \n",
    "    #precision, recall, f1score, confusion matrix\n",
    "    #ppv = positive predictive value)\n",
    "    #subtract 1 because as.numeric changes good and bad to 1 and 2 respectively \n",
    "    baseprecision[ifold] = ppv(as.numeric(test$class)-1, \n",
    "        credit_predict, cutoff = 0.5)  \n",
    "    baserecall[ifold] = recall(as.numeric(test$class)-1, \n",
    "        credit_predict, cutoff = 0.5) \n",
    "    basef1Score[ifold] = f1Score(as.numeric(test$class)-1, \n",
    "        credit_predict, cutoff = 0.5) \n",
    "    basecost[ifold] = sum(\n",
    "        confusionMatrix(as.numeric(test$class)-1,\n",
    "        credit_predict) * COSTMATRIX)  \n",
    "    \n",
    "    #CUTOFF\n",
    "    #precision, recall, f1Score, confusionMatrix\n",
    "    #ppv = positive predictive value)\n",
    "    #subtract 1 because as.numeric changes good and bad to 1 and 2 respectively \n",
    "    ruleprecision[ifold] = ppv(as.numeric(test$class)-1, \n",
    "        credit_predict, cutoff = CUTOFF)  \n",
    "    rulerecall[ifold] = recall(as.numeric(test$class)-1, \n",
    "        credit_predict, cutoff = CUTOFF) \n",
    "    rulef1Score[ifold] = f1Score(as.numeric(test$class)-1, \n",
    "        credit_predict, cutoff = CUTOFF)\n",
    "    rulecost[ifold] = sum(\n",
    "        confusionMatrix(as.numeric(test$class)-1, \n",
    "            credit_predict,cutoff=CUTOFF) * COSTMATRIX)                                    \n",
    "} \n",
    "\n",
    "#cvbaseline----\n",
    "#collect values\n",
    "cvbaseline = data.frame(baseprecision, baserecall, basef1Score, basecost,\n",
    "                        ruleprecision, rulerecall, rulef1Score, rulecost)"
   ]
  },
  {
   "cell_type": "code",
   "execution_count": 9,
   "metadata": {},
   "outputs": [
    {
     "name": "stdout",
     "output_type": "stream",
     "text": [
      "\n",
      "\n",
      "Cross-validation summary across folds:\n",
      "  baseprecision baserecall basef1Score basecost ruleprecision rulerecall\n",
      "1         0.538      0.475       0.505      179         0.362      0.864\n",
      "2         0.607      0.557       0.581      157         0.418      0.967\n",
      "3         0.592      0.509       0.547      160         0.338      0.930\n",
      "4         0.609      0.475       0.533      173         0.372      0.932\n",
      "5         0.652      0.469       0.545      186         0.381      0.922\n",
      "  rulef1Score rulecost\n",
      "1       0.510      130\n",
      "2       0.584       92\n",
      "3       0.495      124\n",
      "4       0.531      113\n",
      "5       0.539      121\n"
     ]
    }
   ],
   "source": [
    "cat(\"\\n\\nCross-validation summary across folds:\\n\")\n",
    "print(round(cvbaseline, digits = 3))"
   ]
  },
  {
   "cell_type": "markdown",
   "metadata": {},
   "source": [
    "\n",
    "The F-score, also called the F1-score, is a measure of a model's accuracy on a dataset. ... The F-score is a way of combining the precision and recall of the model, and it is defined as the harmonic mean of the model's precision and recall.\n",
    "\n",
    "That is, a good F1 score means that you have low false positives and low false negatives, so you're correctly identifying real threats and you are not disturbed by false alarms. An F1 score is considered perfect when it's 1 , while the model is a total failure when it's 0 \n",
    "\n",
    "cost information and knowledge of prevelance of bad = cutoff rules \n"
   ]
  },
  {
   "cell_type": "markdown",
   "metadata": {},
   "source": [
    "The F1 Score is the 2*((precision*recall)/(precision+recall))."
   ]
  },
  {
   "cell_type": "code",
   "execution_count": 10,
   "metadata": {},
   "outputs": [
    {
     "name": "stdout",
     "output_type": "stream",
     "text": [
      "\n",
      "\n",
      "Cross-validation baseline results under STANDARD cutoff rules:\n",
      "    F1 Score:  0.542\n",
      "    Average cost per fold:  171 \n",
      "\n",
      "    Average precision per fold:  0.6 \n",
      "\n",
      "    Average recall per fold:  0.5 \n",
      "\n",
      "\n",
      "Cross-validation baseline results under cost cutoff rules:\n",
      "    F1 Score:  0.532\n",
      "    Average cost per fold:  116 \n",
      "\n",
      "    Average precision per fold:  0.37 \n",
      "\n",
      "    Average recall per fold:  0.92 \n"
     ]
    }
   ],
   "source": [
    "cat(\"\\n\\nCross-validation baseline results under STANDARD cutoff rules:\")\n",
    "cat(\"\\n    F1 Score: \", round(mean(cvbaseline$basef1Score), digits = 3))\n",
    "cat(\"\\n    Average cost per fold: \", \n",
    "    round(mean(cvbaseline$basecost), digits = 2), \"\\n\")\n",
    "cat(\"\\n    Average precision per fold: \", \n",
    "    round(mean(cvbaseline$baseprecision), digits = 2), \"\\n\")\n",
    "cat(\"\\n    Average recall per fold: \", \n",
    "    round(mean(cvbaseline$baserecall), digits = 2), \"\\n\")\n",
    "\n",
    "cat(\"\\n\\nCross-validation baseline results under cost cutoff rules:\")\n",
    "cat(\"\\n    F1 Score: \", round(mean(cvbaseline$rulef1Score), digits = 3))\n",
    "cat(\"\\n    Average cost per fold: \", \n",
    "    round(mean(cvbaseline$rulecost), digits = 2), \"\\n\")\n",
    "cat(\"\\n    Average precision per fold: \", \n",
    "    round(mean(cvbaseline$ruleprecision), digits = 2), \"\\n\")\n",
    "cat(\"\\n    Average recall per fold: \", \n",
    "    round(mean(cvbaseline$rulerecall), digits = 2), \"\\n\")"
   ]
  },
  {
   "cell_type": "markdown",
   "metadata": {},
   "source": [
    "Prepare data for autoencoder\n",
    "Normmalize\n",
    "\n",
    "credit_model = \"class ~ checking_status + duration + \n",
    "    credit_history + purpose + log_credit_amount + savings_status + \n",
    "    employment + installment_commitment + personal_status +        \n",
    "    other_parties + residence_since + property_magnitude +\n",
    "    age + other_payment_plans + housing + existing_credits +      \n",
    "    job + num_dependents + own_telephone\" "
   ]
  },
  {
   "cell_type": "code",
   "execution_count": 11,
   "metadata": {},
   "outputs": [
    {
     "name": "stdout",
     "output_type": "stream",
     "text": [
      "\n",
      "\n",
      "Structure of minmax_data_frame for input to autoencoding work:\n",
      "'data.frame':\t1000 obs. of  44 variables:\n",
      " $ checking_status0..X.200                     : num  0 1 0 0 0 0 0 1 0 1 ...\n",
      " $ checking_status..200                        : num  0 0 0 0 0 0 0 0 0 0 ...\n",
      " $ checking_statusno.checking                  : num  0 0 1 0 0 1 1 0 1 0 ...\n",
      " $ duration                                    : num  0.0294 0.6471 0.1176 0.5588 0.2941 ...\n",
      " $ credit_historyall.paid                      : num  0 0 0 0 0 0 0 0 0 0 ...\n",
      " $ credit_historyexisting.paid                 : num  0 1 0 1 0 1 1 1 1 0 ...\n",
      " $ credit_historydelayed.previously            : num  0 0 0 0 1 0 0 0 0 0 ...\n",
      " $ credit_historycritical.other.existing.credit: num  1 0 1 0 0 0 0 0 0 1 ...\n",
      " $ purposeused.car                             : num  0 0 0 0 0 0 0 1 0 0 ...\n",
      " $ purposefurniture.equipment                  : num  0 0 0 1 0 0 1 0 0 0 ...\n",
      " $ purposeradio.tv                             : num  1 1 0 0 0 0 0 0 1 0 ...\n",
      " $ purposeeducation                            : num  0 0 1 0 0 1 0 0 0 0 ...\n",
      " $ purposebusiness                             : num  0 0 0 0 0 0 0 0 0 0 ...\n",
      " $ purposeother                                : num  0 0 0 0 0 0 0 0 0 0 ...\n",
      " $ log_credit_amount                           : num  0.359 0.737 0.495 0.803 0.691 ...\n",
      " $ savings_status100..X.500                    : num  0 0 0 0 0 0 0 0 0 0 ...\n",
      " $ savings_status500..X.1000                   : num  0 0 0 0 0 0 1 0 0 0 ...\n",
      " $ savings_status..1000                        : num  0 0 0 0 0 0 0 0 1 0 ...\n",
      " $ savings_statusno.known.savings              : num  1 0 0 0 0 1 0 0 0 0 ...\n",
      " $ employment.1                                : num  0 0 0 0 0 0 0 0 0 0 ...\n",
      " $ employment1..X.4                            : num  0 1 0 0 1 1 0 1 0 0 ...\n",
      " $ employment4..X.7                            : num  0 0 1 1 0 0 0 0 1 0 ...\n",
      " $ employment..7                               : num  1 0 0 0 0 0 1 0 0 0 ...\n",
      " $ installment_commitment                      : num  1 0.333 0.333 0.333 0.667 ...\n",
      " $ personal_statusfemale.div.dep.mar           : num  0 1 0 0 0 0 0 0 0 0 ...\n",
      " $ personal_statusmale.single                  : num  1 0 1 1 1 1 1 1 0 0 ...\n",
      " $ personal_statusmale.mar.wid                 : num  0 0 0 0 0 0 0 0 0 1 ...\n",
      " $ other_partiesco.applicant                   : num  0 0 0 0 0 0 0 0 0 0 ...\n",
      " $ other_partiesguarantor                      : num  0 0 0 1 0 0 0 0 0 0 ...\n",
      " $ residence_since                             : num  1 0.333 0.667 1 1 ...\n",
      " $ property_magnitudelife.insurance            : num  0 0 0 1 0 0 1 0 0 0 ...\n",
      " $ property_magnitudecar                       : num  0 0 0 0 0 0 0 1 0 1 ...\n",
      " $ property_magnitudeno.known.property         : num  0 0 0 0 1 1 0 0 0 0 ...\n",
      " $ age                                         : num  0.8571 0.0536 0.5357 0.4643 0.6071 ...\n",
      " $ other_payment_plansstores                   : num  0 0 0 0 0 0 0 0 0 0 ...\n",
      " $ other_payment_plansnone                     : num  1 1 1 1 1 1 1 1 1 1 ...\n",
      " $ housingown                                  : num  1 1 1 0 0 0 1 0 1 1 ...\n",
      " $ housingfor.free                             : num  0 0 0 1 1 1 0 0 0 0 ...\n",
      " $ existing_credits                            : num  0.333 0 0 0 0.333 ...\n",
      " $ jobunskilled.resident                       : num  0 0 1 0 0 1 0 0 1 0 ...\n",
      " $ jobskilled                                  : num  1 1 0 1 1 0 1 0 0 0 ...\n",
      " $ jobhigh.qualif.self.emp.mgmt                : num  0 0 0 0 0 0 0 1 0 1 ...\n",
      " $ num_dependents                              : num  0 0 1 1 1 1 0 0 0 0 ...\n",
      " $ own_telephoneyes                            : num  1 0 0 0 0 1 0 1 0 0 ...\n",
      "NULL\n"
     ]
    },
    {
     "data": {
      "text/html": [
       "<ol class=list-inline>\n",
       "\t<li>1000</li>\n",
       "\t<li>22</li>\n",
       "</ol>\n"
      ],
      "text/latex": [
       "\\begin{enumerate*}\n",
       "\\item 1000\n",
       "\\item 22\n",
       "\\end{enumerate*}\n"
      ],
      "text/markdown": [
       "1. 1000\n",
       "2. 22\n",
       "\n",
       "\n"
      ],
      "text/plain": [
       "[1] 1000   22"
      ]
     },
     "metadata": {},
     "output_type": "display_data"
    },
    {
     "data": {
      "text/html": [
       "<ol class=list-inline>\n",
       "\t<li>1000</li>\n",
       "\t<li>44</li>\n",
       "</ol>\n"
      ],
      "text/latex": [
       "\\begin{enumerate*}\n",
       "\\item 1000\n",
       "\\item 44\n",
       "\\end{enumerate*}\n"
      ],
      "text/markdown": [
       "1. 1000\n",
       "2. 44\n",
       "\n",
       "\n"
      ],
      "text/plain": [
       "[1] 1000   44"
      ]
     },
     "metadata": {},
     "output_type": "display_data"
    },
    {
     "data": {
      "text/html": [
       "<ol class=list-inline>\n",
       "\t<li>1000</li>\n",
       "\t<li>44</li>\n",
       "</ol>\n"
      ],
      "text/latex": [
       "\\begin{enumerate*}\n",
       "\\item 1000\n",
       "\\item 44\n",
       "\\end{enumerate*}\n"
      ],
      "text/markdown": [
       "1. 1000\n",
       "2. 44\n",
       "\n",
       "\n"
      ],
      "text/plain": [
       "[1] 1000   44"
      ]
     },
     "metadata": {},
     "output_type": "display_data"
    }
   ],
   "source": [
    "# prepare data for input to autoencoder work\n",
    "#make it into a matrix so that dummy variables become binary\n",
    "design_matrix = model.matrix(as.formula(credit_model), data = credit)\n",
    "design_data_frame = as.data.frame(design_matrix)[,-1]  # dropping the intercept term\n",
    "\n",
    "# normalize the data ----\n",
    "minmaxnorm <- function(x) { return ((x - min(x)) / (max(x) - min(x))) }\n",
    "\n",
    "\n",
    "#minmax_data_frame\n",
    "minmax_data_frame <- as.data.frame(lapply(design_data_frame, FUN = minmaxnorm)) #as.data.frame (CHANGE)\n",
    "\n",
    "cat(\"\\n\\nStructure of minmax_data_frame for input to autoencoding work:\\n\")\n",
    "print(str(minmax_data_frame))\n",
    "\n",
    "dim(credit) #1000 x 22\n",
    "dim(design_data_frame) #1000 x 44 \n",
    "dim(minmax_data_frame)#1000 x 44 "
   ]
  },
  {
   "cell_type": "code",
   "execution_count": 12,
   "metadata": {},
   "outputs": [
    {
     "name": "stderr",
     "output_type": "stream",
     "text": [
      "\n",
      "Attaching package: ‘dplyr’\n",
      "\n",
      "The following object is masked from ‘package:car’:\n",
      "\n",
      "    recode\n",
      "\n",
      "The following objects are masked from ‘package:stats’:\n",
      "\n",
      "    filter, lag\n",
      "\n",
      "The following objects are masked from ‘package:base’:\n",
      "\n",
      "    intersect, setdiff, setequal, union\n",
      "\n",
      "Type 'citation(\"pROC\")' for a citation.\n",
      "\n",
      "Attaching package: ‘pROC’\n",
      "\n",
      "The following object is masked from ‘package:ModelMetrics’:\n",
      "\n",
      "    auc\n",
      "\n",
      "The following objects are masked from ‘package:stats’:\n",
      "\n",
      "    cov, smooth, var\n",
      "\n",
      "\n",
      "Attaching package: ‘reshape2’\n",
      "\n",
      "The following object is masked from ‘package:tidyr’:\n",
      "\n",
      "    smiths\n",
      "\n"
     ]
    }
   ],
   "source": [
    "# Autoencoder\n",
    "###########################\n",
    "# Resources\n",
    "###########################\n",
    "# https://blogs.rstudio.com/tensorflow/posts/2018-01-24-keras-fraud-autoencoder/ (Links to an external site.)\n",
    "\n",
    "library(tidyr)\n",
    "library(dplyr)\n",
    "library(ggplot2)\n",
    "library(ggridges)\n",
    "library(keras)\n",
    "library(pROC)\n",
    "\n",
    "library(reshape2)\n",
    "\n",
    "###########################\n",
    "# Helper functions\n",
    "###########################\n",
    "\n",
    "# normalize using the min-max method\n",
    "normalize <- function(x) {\n",
    "  denom <- ifelse(max(x) - min(x) == 0, 1, max(x) - min(x))\n",
    "  return ((x - min(x)) / denom)\n",
    "}"
   ]
  },
  {
   "cell_type": "code",
   "execution_count": 13,
   "metadata": {
    "scrolled": false
   },
   "outputs": [
    {
     "name": "stderr",
     "output_type": "stream",
     "text": [
      "Warning message:\n",
      "“attributes are not identical across measure variables;\n",
      "they will be dropped”Picking joint bandwidth of 0.0239\n"
     ]
    },
    {
     "data": {
      "text/plain": [
       " checking_status0..X.200 checking_status..200 checking_statusno.checking\n",
       " Min.   :0.000           Min.   :0.000        Min.   :0.000             \n",
       " 1st Qu.:0.000           1st Qu.:0.000        1st Qu.:0.000             \n",
       " Median :0.000           Median :0.000        Median :0.000             \n",
       " Mean   :0.269           Mean   :0.063        Mean   :0.394             \n",
       " 3rd Qu.:1.000           3rd Qu.:0.000        3rd Qu.:1.000             \n",
       " Max.   :1.000           Max.   :1.000        Max.   :1.000             \n",
       "    duration      credit_historyall.paid credit_historyexisting.paid\n",
       " Min.   :0.0000   Min.   :0.000          Min.   :0.00               \n",
       " 1st Qu.:0.1176   1st Qu.:0.000          1st Qu.:0.00               \n",
       " Median :0.2059   Median :0.000          Median :1.00               \n",
       " Mean   :0.2486   Mean   :0.049          Mean   :0.53               \n",
       " 3rd Qu.:0.2941   3rd Qu.:0.000          3rd Qu.:1.00               \n",
       " Max.   :1.0000   Max.   :1.000          Max.   :1.00               \n",
       " credit_historydelayed.previously credit_historycritical.other.existing.credit\n",
       " Min.   :0.000                    Min.   :0.000                               \n",
       " 1st Qu.:0.000                    1st Qu.:0.000                               \n",
       " Median :0.000                    Median :0.000                               \n",
       " Mean   :0.088                    Mean   :0.293                               \n",
       " 3rd Qu.:0.000                    3rd Qu.:1.000                               \n",
       " Max.   :1.000                    Max.   :1.000                               \n",
       " purposeused.car purposefurniture.equipment purposeradio.tv purposeeducation\n",
       " Min.   :0.000   Min.   :0.000              Min.   :0.00    Min.   :0.000   \n",
       " 1st Qu.:0.000   1st Qu.:0.000              1st Qu.:0.00    1st Qu.:0.000   \n",
       " Median :0.000   Median :0.000              Median :0.00    Median :0.000   \n",
       " Mean   :0.103   Mean   :0.181              Mean   :0.28    Mean   :0.059   \n",
       " 3rd Qu.:0.000   3rd Qu.:0.000              3rd Qu.:1.00    3rd Qu.:0.000   \n",
       " Max.   :1.000   Max.   :1.000              Max.   :1.00    Max.   :1.000   \n",
       " purposebusiness  purposeother   log_credit_amount savings_status100..X.500\n",
       " Min.   :0.000   Min.   :0.000   Min.   :0.0000    Min.   :0.000           \n",
       " 1st Qu.:0.000   1st Qu.:0.000   1st Qu.:0.3948    1st Qu.:0.000           \n",
       " Median :0.000   Median :0.000   Median :0.5181    Median :0.000           \n",
       " Mean   :0.097   Mean   :0.046   Mean   :0.5273    Mean   :0.103           \n",
       " 3rd Qu.:0.000   3rd Qu.:0.000   3rd Qu.:0.6432    3rd Qu.:0.000           \n",
       " Max.   :1.000   Max.   :1.000   Max.   :1.0000    Max.   :1.000           \n",
       " savings_status500..X.1000 savings_status..1000 savings_statusno.known.savings\n",
       " Min.   :0.000             Min.   :0.000        Min.   :0.000                 \n",
       " 1st Qu.:0.000             1st Qu.:0.000        1st Qu.:0.000                 \n",
       " Median :0.000             Median :0.000        Median :0.000                 \n",
       " Mean   :0.063             Mean   :0.048        Mean   :0.183                 \n",
       " 3rd Qu.:0.000             3rd Qu.:0.000        3rd Qu.:0.000                 \n",
       " Max.   :1.000             Max.   :1.000        Max.   :1.000                 \n",
       "  employment.1   employment1..X.4 employment4..X.7 employment..7  \n",
       " Min.   :0.000   Min.   :0.000    Min.   :0.000    Min.   :0.000  \n",
       " 1st Qu.:0.000   1st Qu.:0.000    1st Qu.:0.000    1st Qu.:0.000  \n",
       " Median :0.000   Median :0.000    Median :0.000    Median :0.000  \n",
       " Mean   :0.172   Mean   :0.339    Mean   :0.174    Mean   :0.253  \n",
       " 3rd Qu.:0.000   3rd Qu.:1.000    3rd Qu.:0.000    3rd Qu.:1.000  \n",
       " Max.   :1.000   Max.   :1.000    Max.   :1.000    Max.   :1.000  \n",
       " installment_commitment personal_statusfemale.div.dep.mar\n",
       " Min.   :0.0000         Min.   :0.00                     \n",
       " 1st Qu.:0.3333         1st Qu.:0.00                     \n",
       " Median :0.6667         Median :0.00                     \n",
       " Mean   :0.6577         Mean   :0.31                     \n",
       " 3rd Qu.:1.0000         3rd Qu.:1.00                     \n",
       " Max.   :1.0000         Max.   :1.00                     \n",
       " personal_statusmale.single personal_statusmale.mar.wid\n",
       " Min.   :0.000              Min.   :0.000              \n",
       " 1st Qu.:0.000              1st Qu.:0.000              \n",
       " Median :1.000              Median :0.000              \n",
       " Mean   :0.548              Mean   :0.092              \n",
       " 3rd Qu.:1.000              3rd Qu.:0.000              \n",
       " Max.   :1.000              Max.   :1.000              \n",
       " other_partiesco.applicant other_partiesguarantor residence_since \n",
       " Min.   :0.000             Min.   :0.000          Min.   :0.0000  \n",
       " 1st Qu.:0.000             1st Qu.:0.000          1st Qu.:0.3333  \n",
       " Median :0.000             Median :0.000          Median :0.6667  \n",
       " Mean   :0.041             Mean   :0.052          Mean   :0.6150  \n",
       " 3rd Qu.:0.000             3rd Qu.:0.000          3rd Qu.:1.0000  \n",
       " Max.   :1.000             Max.   :1.000          Max.   :1.0000  \n",
       " property_magnitudelife.insurance property_magnitudecar\n",
       " Min.   :0.000                    Min.   :0.000        \n",
       " 1st Qu.:0.000                    1st Qu.:0.000        \n",
       " Median :0.000                    Median :0.000        \n",
       " Mean   :0.232                    Mean   :0.332        \n",
       " 3rd Qu.:0.000                    3rd Qu.:1.000        \n",
       " Max.   :1.000                    Max.   :1.000        \n",
       " property_magnitudeno.known.property      age         other_payment_plansstores\n",
       " Min.   :0.000                       Min.   :0.0000   Min.   :0.000            \n",
       " 1st Qu.:0.000                       1st Qu.:0.1429   1st Qu.:0.000            \n",
       " Median :0.000                       Median :0.2500   Median :0.000            \n",
       " Mean   :0.154                       Mean   :0.2955   Mean   :0.047            \n",
       " 3rd Qu.:0.000                       3rd Qu.:0.4107   3rd Qu.:0.000            \n",
       " Max.   :1.000                       Max.   :1.0000   Max.   :1.000            \n",
       " other_payment_plansnone   housingown    housingfor.free existing_credits\n",
       " Min.   :0.000           Min.   :0.000   Min.   :0.000   Min.   :0.0000  \n",
       " 1st Qu.:1.000           1st Qu.:0.000   1st Qu.:0.000   1st Qu.:0.0000  \n",
       " Median :1.000           Median :1.000   Median :0.000   Median :0.0000  \n",
       " Mean   :0.814           Mean   :0.713   Mean   :0.108   Mean   :0.1357  \n",
       " 3rd Qu.:1.000           3rd Qu.:1.000   3rd Qu.:0.000   3rd Qu.:0.3333  \n",
       " Max.   :1.000           Max.   :1.000   Max.   :1.000   Max.   :1.0000  \n",
       " jobunskilled.resident   jobskilled   jobhigh.qualif.self.emp.mgmt\n",
       " Min.   :0.0           Min.   :0.00   Min.   :0.000               \n",
       " 1st Qu.:0.0           1st Qu.:0.00   1st Qu.:0.000               \n",
       " Median :0.0           Median :1.00   Median :0.000               \n",
       " Mean   :0.2           Mean   :0.63   Mean   :0.148               \n",
       " 3rd Qu.:0.0           3rd Qu.:1.00   3rd Qu.:0.000               \n",
       " Max.   :1.0           Max.   :1.00   Max.   :1.000               \n",
       " num_dependents  own_telephoneyes\n",
       " Min.   :0.000   Min.   :0.000   \n",
       " 1st Qu.:0.000   1st Qu.:0.000   \n",
       " Median :0.000   Median :0.000   \n",
       " Mean   :0.155   Mean   :0.404   \n",
       " 3rd Qu.:0.000   3rd Qu.:1.000   \n",
       " Max.   :1.000   Max.   :1.000   "
      ]
     },
     "metadata": {},
     "output_type": "display_data"
    },
    {
     "data": {
      "text/html": [
       "<table>\n",
       "<thead><tr><th scope=col>class</th><th scope=col>Count</th></tr></thead>\n",
       "<tbody>\n",
       "\t<tr><td>good</td><td>700 </td></tr>\n",
       "\t<tr><td>bad </td><td>300 </td></tr>\n",
       "</tbody>\n",
       "</table>\n"
      ],
      "text/latex": [
       "\\begin{tabular}{r|ll}\n",
       " class & Count\\\\\n",
       "\\hline\n",
       "\t good & 700 \\\\\n",
       "\t bad  & 300 \\\\\n",
       "\\end{tabular}\n"
      ],
      "text/markdown": [
       "\n",
       "| class | Count |\n",
       "|---|---|\n",
       "| good | 700  |\n",
       "| bad  | 300  |\n",
       "\n"
      ],
      "text/plain": [
       "  class Count\n",
       "1 good  700  \n",
       "2 bad   300  "
      ]
     },
     "metadata": {},
     "output_type": "display_data"
    },
    {
     "data": {
      "image/png": "[encoded data removed]",
      "text/plain": [
       "plot without title"
      ]
     },
     "metadata": {},
     "output_type": "display_data"
    }
   ],
   "source": [
    "###########################\n",
    "# Exploratory Data Analysis\n",
    "# Data Prep\n",
    "###########################\n",
    "\n",
    "credit %>%\n",
    "        gather(variable, value, -class) %>%\n",
    "        ggplot(aes(y = as.factor(variable),\n",
    "                   fill = as.factor(class),\n",
    "                   x = percent_rank(value)))+\n",
    "        geom_density_ridges(scale = 1) +\n",
    "        labs(fill = 'class', y = 'Variables', x = '')\n",
    "\n",
    "\n",
    "# Review range of variables and ensure no N/As exist\n",
    "summary(minmax_data_frame)\n",
    "\n",
    "# Check to see if dataset is balanced\n",
    "#700 to 300 \n",
    "credit %>%\n",
    "        group_by(class) %>%\n",
    "        summarize(Count = n())\n"
   ]
  },
  {
   "cell_type": "code",
   "execution_count": 14,
   "metadata": {},
   "outputs": [],
   "source": [
    "###########################\n",
    "# Split the dataset\n",
    "###########################\n",
    "\n",
    "## set the seed to make your partition reproducible\n",
    "set.seed(123)\n",
    "\n",
    "#sample size\n",
    "smp_size <- floor(0.80 * nrow(minmax_data_frame))\n",
    "\n",
    "train_ind <- sample(seq_len(nrow(minmax_data_frame)), size = smp_size)\n",
    "\n",
    "#df_train and df_test\n",
    "df_train <- minmax_data_frame[train_ind, ]\n",
    "df_test <- minmax_data_frame[-train_ind, ]\n",
    "\n",
    "#y_train and y_test\n",
    "y_train <- credit$class[train_ind]\n",
    "y_test <- credit$class[-train_ind]\n",
    "\n",
    "# Create the training matrix\n",
    "x_train <- df_train %>%\n",
    "  as.matrix()\n",
    "\n",
    "# Create the testing matrix\n",
    "x_test <- df_test %>%\n",
    "  as.matrix()"
   ]
  },
  {
   "cell_type": "markdown",
   "metadata": {},
   "source": [
    "Now that the data has been prepared, we can start building the model. The keras::sequential model is the most common model type. It is defined as a sequential stack of layers. To build a model, we must first instantiate a sequential object then add layers so the model knows shape of data for each layer. \n",
    "\n",
    "The ‘layer_dense’ specifies a layer of neurons where each neuron receives input from the neurons in the previous layer.  Note that the first layer has the additional parameter ‘input_shape’. This tells the model that the input will contain 44 variables. \n",
    "\n",
    "The ‘units’ parameter specifies the number of neurons or dimensionality of the outspace. So, in the first layer, also known as the input layer, we input 44 variables and reduce its dimensionality to 15 units. Next, we have a hidden layer with that accepts an input of 15 units and reduces the dimensionality to 10 units. These two layers make up the encoder.\n",
    "\n",
    "The decoder consists of the two remaining layers. Recall that the decoder attempts to reconstruct the input, so here the first layer of the decoder takes an input of 10 units and decompresses it to 15 units. The final layer, also known as the output layer, should always have the same shape of the input layer. This layer takes an input of 15 units and further decompresses it to dimensionality of the original 44 variables.\n",
    "\n",
    "Except for the output layer, each layer has an activation function specified. For our model, we use the Tanh activation function. The Tanh function is bound to the range (-1, 1). \n",
    "\n",
    "The purpose of the activation function is to tell the following layers if the neuron is activated or not.  Other activation functions may be suitable for this task as well and you are free to experiment."
   ]
  },
  {
   "cell_type": "code",
   "execution_count": 15,
   "metadata": {},
   "outputs": [
    {
     "data": {
      "text/html": [
       "44"
      ],
      "text/latex": [
       "44"
      ],
      "text/markdown": [
       "44"
      ],
      "text/plain": [
       "[1] 44"
      ]
     },
     "metadata": {},
     "output_type": "display_data"
    }
   ],
   "source": [
    "ncol(x_train)"
   ]
  },
  {
   "cell_type": "markdown",
   "metadata": {},
   "source": [
    "**Model  1**"
   ]
  },
  {
   "cell_type": "code",
   "execution_count": 16,
   "metadata": {},
   "outputs": [
    {
     "name": "stdout",
     "output_type": "stream",
     "text": [
      "________________________________________________________________________________\n",
      "Layer (type)                        Output Shape                    Param #     \n",
      "================================================================================\n",
      "dense (Dense)                       (None, 15)                      675         \n",
      "________________________________________________________________________________\n",
      "dense_1 (Dense)                     (None, 10)                      160         \n",
      "________________________________________________________________________________\n",
      "dense_2 (Dense)                     (None, 15)                      165         \n",
      "________________________________________________________________________________\n",
      "dense_3 (Dense)                     (None, 44)                      704         \n",
      "================================================================================\n",
      "Total params: 1,704\n",
      "Trainable params: 1,704\n",
      "Non-trainable params: 0\n",
      "________________________________________________________________________________\n"
     ]
    }
   ],
   "source": [
    "###########################\n",
    "# MODEL 1 - AUTOENCODER\n",
    "###########################\n",
    "\n",
    "###########################\n",
    "# Construct and compile the autoencoder\n",
    "###########################\n",
    "\n",
    "# Create a sequential model\n",
    "model <- keras_model_sequential()\n",
    "model %>%\n",
    "  # encoder\n",
    "  layer_dense(units = 15, activation = \"tanh\", input_shape = ncol(x_train)) %>%\n",
    "  layer_dense(units = 10, activation = \"tanh\") %>%\n",
    "  # decoder\n",
    "  layer_dense(units = 15, activation = \"tanh\") %>%\n",
    "  layer_dense(units = ncol(x_train)\n",
    ")\n",
    "\n",
    "# Compile the modelminmax_data_frame\n",
    "model %>% compile(\n",
    "  loss='mean_squared_error',\n",
    "  optimizer='adam',\n",
    "  metrics = c('accuracy')\n",
    ")\n",
    "\n",
    "# View the model summary\n",
    "summary(model)"
   ]
  },
  {
   "cell_type": "markdown",
   "metadata": {},
   "source": [
    "**Model  2 and 2b**"
   ]
  },
  {
   "cell_type": "code",
   "execution_count": 17,
   "metadata": {
    "scrolled": true
   },
   "outputs": [
    {
     "name": "stdout",
     "output_type": "stream",
     "text": [
      "________________________________________________________________________________\n",
      "Layer (type)                        Output Shape                    Param #     \n",
      "================================================================================\n",
      "dense_4 (Dense)                     (None, 30)                      1350        \n",
      "________________________________________________________________________________\n",
      "dense_5 (Dense)                     (None, 20)                      620         \n",
      "________________________________________________________________________________\n",
      "dense_6 (Dense)                     (None, 10)                      210         \n",
      "________________________________________________________________________________\n",
      "dense_7 (Dense)                     (None, 20)                      220         \n",
      "________________________________________________________________________________\n",
      "dense_8 (Dense)                     (None, 30)                      630         \n",
      "________________________________________________________________________________\n",
      "dense_9 (Dense)                     (None, 44)                      1364        \n",
      "================================================================================\n",
      "Total params: 4,394\n",
      "Trainable params: 4,394\n",
      "Non-trainable params: 0\n",
      "________________________________________________________________________________\n",
      "________________________________________________________________________________\n",
      "Layer (type)                        Output Shape                    Param #     \n",
      "================================================================================\n",
      "dense_10 (Dense)                    (None, 30)                      1350        \n",
      "________________________________________________________________________________\n",
      "dense_11 (Dense)                    (None, 20)                      620         \n",
      "________________________________________________________________________________\n",
      "dense_12 (Dense)                    (None, 10)                      210         \n",
      "________________________________________________________________________________\n",
      "dense_13 (Dense)                    (None, 20)                      220         \n",
      "________________________________________________________________________________\n",
      "dense_14 (Dense)                    (None, 30)                      630         \n",
      "________________________________________________________________________________\n",
      "dense_15 (Dense)                    (None, 44)                      1364        \n",
      "================================================================================\n",
      "Total params: 4,394\n",
      "Trainable params: 4,394\n",
      "Non-trainable params: 0\n",
      "________________________________________________________________________________\n"
     ]
    }
   ],
   "source": [
    "###########################\n",
    "# MODEL 2 - AUTOENCODER\n",
    "###########################\n",
    "\n",
    "###########################\n",
    "# Construct and compile the autoencoder\n",
    "###########################\n",
    "\n",
    "# Create a sequential model\n",
    "model2 <- keras_model_sequential()\n",
    "model2 %>%\n",
    "  # encoder\n",
    "  layer_dense(units = 30, activation = \"tanh\", input_shape = ncol(x_train)) %>%\n",
    "  layer_dense(units = 20, activation = \"tanh\") %>%\n",
    "  layer_dense(units = 10, activation = \"tanh\") %>%\n",
    "  # decoder\n",
    "  layer_dense(units = 20, activation = \"tanh\") %>%\n",
    "  layer_dense(units = 30, activation = \"tanh\") %>%\n",
    "  layer_dense(units = ncol(x_train)\n",
    ")\n",
    "\n",
    "# Compile the model\n",
    "model2 %>% compile(\n",
    "  loss='binary_crossentropy',\n",
    "  optimizer='adam',\n",
    "  metrics = c('accuracy')\n",
    ")\n",
    "\n",
    "# View the model summary\n",
    "summary(model2)\n",
    "\n",
    "# Create a sequential model\n",
    "model2b <- keras_model_sequential()\n",
    "model2b %>%\n",
    "  # encoder\n",
    "  layer_dense(units = 30, activation = \"tanh\", input_shape = ncol(x_train)) %>%\n",
    "  layer_dense(units = 20, activation = \"tanh\") %>%\n",
    "  layer_dense(units = 10, activation = \"tanh\") %>%\n",
    "  # decoder\n",
    "  layer_dense(units = 20, activation = \"tanh\") %>%\n",
    "  layer_dense(units = 30, activation = \"tanh\") %>%\n",
    "  layer_dense(units = ncol(x_train)\n",
    ")\n",
    "\n",
    "# Compile the model\n",
    "model2b %>% compile(\n",
    "  loss='mean_squared_error',\n",
    "  optimizer='adam',\n",
    "  metrics = c('accuracy')\n",
    ")\n",
    "\n",
    "# View the model summary\n",
    "summary(model2b)"
   ]
  },
  {
   "cell_type": "markdown",
   "metadata": {},
   "source": [
    "**Model  3**"
   ]
  },
  {
   "cell_type": "code",
   "execution_count": 18,
   "metadata": {
    "scrolled": true
   },
   "outputs": [
    {
     "name": "stdout",
     "output_type": "stream",
     "text": [
      "________________________________________________________________________________\n",
      "Layer (type)                        Output Shape                    Param #     \n",
      "================================================================================\n",
      "dense_16 (Dense)                    (None, 30)                      1350        \n",
      "________________________________________________________________________________\n",
      "dense_17 (Dense)                    (None, 20)                      620         \n",
      "________________________________________________________________________________\n",
      "dense_18 (Dense)                    (None, 10)                      210         \n",
      "________________________________________________________________________________\n",
      "dense_19 (Dense)                    (None, 20)                      220         \n",
      "________________________________________________________________________________\n",
      "dense_20 (Dense)                    (None, 30)                      630         \n",
      "________________________________________________________________________________\n",
      "dense_21 (Dense)                    (None, 44)                      1364        \n",
      "================================================================================\n",
      "Total params: 4,394\n",
      "Trainable params: 4,394\n",
      "Non-trainable params: 0\n",
      "________________________________________________________________________________\n"
     ]
    }
   ],
   "source": [
    "###########################\n",
    "# MODEL 3 - AUTOENCODER\n",
    "###########################\n",
    "\n",
    "###########################\n",
    "# Construct and compile the autoencoder\n",
    "###########################\n",
    "\n",
    "# Create a sequential model\n",
    "model3 <- keras_model_sequential()\n",
    "model3 %>%\n",
    "  # encoder\n",
    "  layer_dense(units = 30, activation = \"tanh\", input_shape = ncol(x_train)) %>%\n",
    "  layer_dense(units = 20, activation = \"tanh\") %>%\n",
    "  layer_dense(units = 10, activation = \"tanh\") %>%\n",
    "  # decoder\n",
    "  layer_dense(units = 20, activation = \"tanh\") %>%\n",
    "  layer_dense(units = 30, activation = \"tanh\") %>%\n",
    "  layer_dense(units = ncol(x_train)\n",
    ")\n",
    "\n",
    "# Compile the model\n",
    "model3 %>% compile(\n",
    "  loss='binary_crossentropy',\n",
    "  optimizer='adam',\n",
    "  metrics = c('accuracy')\n",
    ")\n",
    "\n",
    "# View the model summary\n",
    "summary(model3)"
   ]
  },
  {
   "cell_type": "code",
   "execution_count": null,
   "metadata": {},
   "outputs": [],
   "source": []
  },
  {
   "cell_type": "markdown",
   "metadata": {},
   "source": [
    "We are now ready to fit our model. We do so by calling the ‘fit’ function from the keras package. Something unique about autoencoders is that we pass the same dataset for x and y. This makes sense since we are goal is to encode the data then reconstruct it. We do the same for our validation data, which is used to determine how well the reconstructed data matches the original inputs.\n",
    "\n",
    "The two callback functions that are used here are only for convenience. The first, ‘checkpoint’ tracks the training progress and saves a copy of the best model. The ‘early_stopping’ callback is used to halt training if the validation loss stops improving for five epochs since no further improvement is expected. "
   ]
  },
  {
   "cell_type": "code",
   "execution_count": 19,
   "metadata": {},
   "outputs": [
    {
     "name": "stderr",
     "output_type": "stream",
     "text": [
      "Warning message in callback_model_checkpoint(filepath = \"model.hdf5\", save_best_only = TRUE, :\n",
      "“The save_freq argument is only used by TensorFlow >= 1.14. Update TensorFlow or use save_freq = NULL”Warning message in callback_model_checkpoint(filepath = \"model2.hdf5\", save_best_only = TRUE, :\n",
      "“The save_freq argument is only used by TensorFlow >= 1.14. Update TensorFlow or use save_freq = NULL”Warning message in callback_model_checkpoint(filepath = \"model2b.hdf5\", save_best_only = TRUE, :\n",
      "“The save_freq argument is only used by TensorFlow >= 1.14. Update TensorFlow or use save_freq = NULL”Warning message in callback_model_checkpoint(filepath = \"model3.hdf5\", save_best_only = TRUE, :\n",
      "“The save_freq argument is only used by TensorFlow >= 1.14. Update TensorFlow or use save_freq = NULL”"
     ]
    }
   ],
   "source": [
    "###########################\n",
    "# Fit the model\n",
    "# Save the best model\n",
    "###########################\n",
    "\n",
    "# Save the best model\n",
    "checkpoint <- callback_model_checkpoint(\n",
    "  filepath = \"model.hdf5\",\n",
    "  save_best_only = TRUE,\n",
    "  period = 1,\n",
    "  verbose = 1\n",
    ")\n",
    "\n",
    "#\n",
    "checkpoint2 <- callback_model_checkpoint(\n",
    "  filepath = \"model2.hdf5\",\n",
    "  save_best_only = TRUE,\n",
    "  period = 1,\n",
    "  verbose = 1\n",
    ")\n",
    "\n",
    "#creating embedding input for logistic regression\n",
    "checkpoint2b <- callback_model_checkpoint(\n",
    "  filepath = \"model2b.hdf5\",\n",
    "  save_best_only = TRUE,\n",
    "  period = 1,\n",
    "  verbose = 1\n",
    ")\n",
    "\n",
    "checkpoint3 <- callback_model_checkpoint(\n",
    "  filepath = \"model3.hdf5\",\n",
    "  save_best_only = TRUE,\n",
    "  period = 1,\n",
    "  verbose = 1\n",
    ")\n",
    "\n",
    "# Stop training if val_loss stops decreasing\n",
    "early_stopping <- callback_early_stopping(monitor = 'val_loss', patience = 5)\n",
    "\n"
   ]
  },
  {
   "cell_type": "code",
   "execution_count": null,
   "metadata": {},
   "outputs": [],
   "source": []
  },
  {
   "cell_type": "markdown",
   "metadata": {},
   "source": [
    "**Fit Model 1**"
   ]
  },
  {
   "cell_type": "code",
   "execution_count": 20,
   "metadata": {},
   "outputs": [],
   "source": [
    "#0 = good\n",
    "#1 = bad\n",
    "y_train <- as.numeric(y_train)-1\n",
    "y_test <- as.numeric(y_test)-1"
   ]
  },
  {
   "cell_type": "markdown",
   "metadata": {},
   "source": [
    "We are only training on non-fraudulent transactions (y_train == 0). Since our autoencoder is trained to reconstruct good credit transactions, the reconstruction error on bad credit transactions should be much higher. We can use this higher reconstruction error to identify bad credit customers."
   ]
  },
  {
   "cell_type": "code",
   "execution_count": 21,
   "metadata": {},
   "outputs": [],
   "source": [
    "# Train the model\n",
    "model %>% fit(\n",
    "  x = x_train,\n",
    "  y = x_train,\n",
    "  epochs = 100,\n",
    "  batch_size = 32,\n",
    "  validation_data = list(x_test, x_test),\n",
    "  callbacks = list(checkpoint, early_stopping)\n",
    ")\n"
   ]
  },
  {
   "cell_type": "code",
   "execution_count": 22,
   "metadata": {
    "scrolled": true
   },
   "outputs": [
    {
     "data": {
      "text/html": [
       "<dl>\n",
       "\t<dt>$loss</dt>\n",
       "\t\t<dd>0.0570734852781663</dd>\n",
       "\t<dt>$acc</dt>\n",
       "\t\t<dd>0.0615384615384615</dd>\n",
       "</dl>\n"
      ],
      "text/latex": [
       "\\begin{description}\n",
       "\\item[\\$loss] 0.0570734852781663\n",
       "\\item[\\$acc] 0.0615384615384615\n",
       "\\end{description}\n"
      ],
      "text/markdown": [
       "$loss\n",
       ":   0.0570734852781663\n",
       "$acc\n",
       ":   0.0615384615384615\n",
       "\n",
       "\n"
      ],
      "text/plain": [
       "$loss\n",
       "[1] 0.05707349\n",
       "\n",
       "$acc\n",
       "[1] 0.06153846\n"
      ]
     },
     "metadata": {},
     "output_type": "display_data"
    }
   ],
   "source": [
    "# Check the loss\n",
    "loss <- evaluate(model, x = x_test[y_test == 0,], y = x_test[y_test == 0,])\n",
    "loss"
   ]
  },
  {
   "cell_type": "markdown",
   "metadata": {},
   "source": [
    "**Fit Model 2**"
   ]
  },
  {
   "cell_type": "code",
   "execution_count": 23,
   "metadata": {},
   "outputs": [],
   "source": [
    "# Train the model ()\n",
    "model2 %>% fit(\n",
    "  x = x_train[y_train == 0,],\n",
    "  y = x_train[y_train == 0,],\n",
    "  epochs = 100,\n",
    "  batch_size = 32,\n",
    "  validation_data = list(x_test[y_test == 0,], x_test[y_test == 0,]),\n",
    "  callbacks = list(checkpoint2, early_stopping)\n",
    ")\n"
   ]
  },
  {
   "cell_type": "code",
   "execution_count": 24,
   "metadata": {},
   "outputs": [],
   "source": [
    "# Train the model\n",
    "model2b %>% fit(\n",
    "  x = x_train,\n",
    "  y = x_train,\n",
    "  epochs = 100,\n",
    "  batch_size = 32,\n",
    "  validation_data = list(x_test, x_test),\n",
    "  callbacks = list(checkpoint2b, early_stopping)\n",
    ")\n"
   ]
  },
  {
   "cell_type": "markdown",
   "metadata": {},
   "source": [
    "**Fit Model 3**"
   ]
  },
  {
   "cell_type": "code",
   "execution_count": 25,
   "metadata": {},
   "outputs": [],
   "source": [
    "# Train the model\n",
    "model3 %>% fit(\n",
    "  x = x_train,\n",
    "  y = x_train,\n",
    "  epochs = 100,\n",
    "  batch_size = 32,\n",
    "  validation_data = list(x_test, x_test),\n",
    "  callbacks = list(checkpoint3, early_stopping)\n",
    ")\n"
   ]
  },
  {
   "cell_type": "markdown",
   "metadata": {},
   "source": [
    "Recall that the best model was saved during training. We can now reload the saved model and use it for the remainder of the lab. This step is not necessary, but it is useful to know how to save and load models for later use. \n",
    "\n",
    "In order to detect bad credit, we need to determine the mean squared error (MSE) for each observation. \n",
    "\n",
    "We accomplish this by passing the full training and test sets into the ‘predict’ function from the keras package.  \n",
    "\n",
    "Since our model is an autoencoder, predicting on the dataset will basically encode and then reconstruct the data. "
   ]
  },
  {
   "cell_type": "markdown",
   "metadata": {},
   "source": [
    "**Predictions Model 2**"
   ]
  },
  {
   "cell_type": "code",
   "execution_count": 26,
   "metadata": {},
   "outputs": [],
   "source": [
    "###########################\n",
    "# Load the saved model\n",
    "# Calculate MSE\n",
    "###########################\n",
    "\n",
    "# Load the saved model\n",
    "model2 <- load_model_hdf5(\"model2.hdf5\", compile = FALSE)\n",
    "\n",
    "# Reconstruct the training set and calculate MSE\n",
    "pred_train2 <- predict(model2, x_train)\n",
    "MSE_train2 <- apply((x_train - pred_train2) ^2, 1, sum)\n",
    "\n",
    "# Reconstruct the test set and calculate MSE\n",
    "pred_test2 <- predict(model2, x_test)\n",
    "MSE_test2 <- apply((x_test - pred_test2) ^2, 1, sum)"
   ]
  },
  {
   "cell_type": "markdown",
   "metadata": {},
   "source": [
    "Area Under the Curve (AUC) and Receiver Operating Characteristics (ROC) curve are useful measurements for classification problems.  \n",
    "\n",
    "The AUC is a measure of how well the model is capable of distinguishing between classes.  The higher the AUC, the better.  The ROC curve is a probability plot with the true positive rate (recall) on the y-axis and the false positive rate (ratio of negative instances that are incorrectly classified as positive) on the x-axis. \n",
    "\n",
    "Hands on ML Page 91\n",
    "\n",
    "We were not concerned with accuracy while the model was training, but now we do need to get an idea of how well our model will perform for prediction.  \n",
    "\n",
    "ROC curve plots and the AUC for both the reconstructed training set and test set are shown below.  With AUCs at 60%, the model appears to be performing quite poorly.  \n",
    "\n",
    "One thing to note however is that ROC curves do not often perform well with imbalanced datasets.  Our dataset consists of only 300 or 30% bad credit instances so the dataset is imbalanced."
   ]
  },
  {
   "cell_type": "markdown",
   "metadata": {},
   "source": [
    "**Using Model 2 (Unsupervised Learning Solution)**"
   ]
  },
  {
   "cell_type": "code",
   "execution_count": 27,
   "metadata": {
    "scrolled": true
   },
   "outputs": [
    {
     "name": "stderr",
     "output_type": "stream",
     "text": [
      "Setting levels: control = 0, case = 1\n",
      "Setting direction: controls < cases\n",
      "Setting levels: control = 0, case = 1\n",
      "Setting direction: controls < cases\n"
     ]
    },
    {
     "data": {
      "image/png": "[encoded data removed]",
      "text/plain": [
       "Plot with title “ROC - Training Set: AUC - 0.5329”"
      ]
     },
     "metadata": {},
     "output_type": "display_data"
    },
    {
     "data": {
      "image/png": "[encoded data removed]",
      "text/plain": [
       "Plot with title “ROC - Test Set: AUC - 0.5974”"
      ]
     },
     "metadata": {},
     "output_type": "display_data"
    }
   ],
   "source": [
    "###########################\n",
    "# AUC and ROC plots\n",
    "###########################\n",
    "\n",
    "# Calculate area under the curve and plot the ROC\n",
    "train_roc <- roc(y_train, MSE_train2)\n",
    "plot(train_roc, col = \"blue\", main = paste0(\"ROC - Training Set: AUC - \", round(train_roc$auc, 4)))\n",
    "\n",
    "# Calculate area under the curve and plot the ROC\n",
    "test_roc <- roc(y_test, MSE_test2)\n",
    "plot(test_roc, col = \"blue\", main = paste0(\"ROC - Test Set: AUC - \", round(test_roc$auc, 4)))"
   ]
  },
  {
   "cell_type": "code",
   "execution_count": 28,
   "metadata": {
    "scrolled": false
   },
   "outputs": [
    {
     "name": "stderr",
     "output_type": "stream",
     "text": [
      "Warning message:\n",
      "“The `x` argument of `as_tibble.matrix()` must have unique column names if `.name_repair` is omitted as of tibble 2.0.0.\n",
      "Using compatibility `.name_repair`.\n",
      "This warning is displayed once every 8 hours.\n",
      "Call `lifecycle::last_warnings()` to see where this warning was generated.”"
     ]
    },
    {
     "data": {
      "image/png": "[encoded data removed]",
      "text/plain": [
       "plot without title"
      ]
     },
     "metadata": {},
     "output_type": "display_data"
    }
   ],
   "source": [
    "###########################\n",
    "# Recall and precision\n",
    "###########################\n",
    "# Calculate the precision\n",
    "\n",
    "#MSE BETWEEN 0 AND 8\n",
    "possible_k <- seq(0,8, length.out = 100)\n",
    "\n",
    "precision <- sapply(possible_k, function(k) {\n",
    "    \n",
    "  predicted_class <- as.numeric(MSE_test2 > k)\n",
    "    \n",
    "  sum(predicted_class == 1 & y_test == 1)/sum(predicted_class)\n",
    "    \n",
    "})\n",
    "\n",
    "# Calculate the recall\n",
    "recall <- sapply(possible_k, function(k) {\n",
    "  predicted_class <- as.numeric(MSE_test2 > k)\n",
    "  sum(predicted_class == 1 & y_test == 1)/sum(y_test)\n",
    "})\n",
    "\n",
    "# Create dataset for plotting\n",
    "evaluation <- cbind(seq(1:100), precision, recall) %>%\n",
    "  as_tibble()\n",
    "colnames(evaluation) <- c('Threshold', 'Precision', 'Recall')\n",
    "evaluation <- melt(evaluation, id = 'Threshold')\n",
    "\n",
    "# Plot precision and recall\n",
    "ggplot() +\n",
    "  geom_line(data = evaluation, aes(x = Threshold, y = value, colour = variable)) +\n",
    "  labs(title = 'Precision / Recall')"
   ]
  },
  {
   "cell_type": "markdown",
   "metadata": {},
   "source": [
    "Precision and recall are also useful measurements for classification models.  \n",
    "\n",
    "Precision measures the relevancy of obtained results, while recall measures how many relevant results are returned. Both values can take values between 0 and 1.  \n",
    "\n",
    "Precision = True positive / (true positive + false positive)\n",
    "\n",
    "Recall = True Positive / (true positive + false negatives)\n",
    "\n",
    "We can see that as the reconstruction error or MSE rises the precision rises.  \n",
    "The opposite is true for recall since recall decreases as MSE rises."
   ]
  },
  {
   "cell_type": "markdown",
   "metadata": {},
   "source": [
    "The F1 Score is the 2*((precision*recall)/(precision+recall))."
   ]
  },
  {
   "cell_type": "code",
   "execution_count": 29,
   "metadata": {
    "scrolled": true
   },
   "outputs": [
    {
     "data": {
      "text/html": [
       "0.086"
      ],
      "text/latex": [
       "0.086"
      ],
      "text/markdown": [
       "0.086"
      ],
      "text/plain": [
       "[1] 0.086"
      ]
     },
     "metadata": {},
     "output_type": "display_data"
    },
    {
     "data": {
      "text/html": [
       "<table>\n",
       "<tbody>\n",
       "\t<tr><td>0</td><td>5</td></tr>\n",
       "\t<tr><td>1</td><td>0</td></tr>\n",
       "</tbody>\n",
       "</table>\n"
      ],
      "text/latex": [
       "\\begin{tabular}{ll}\n",
       "\t 0 & 5\\\\\n",
       "\t 1 & 0\\\\\n",
       "\\end{tabular}\n"
      ],
      "text/markdown": [
       "\n",
       "| 0 | 5 |\n",
       "| 1 | 0 |\n",
       "\n"
      ],
      "text/plain": [
       "     [,1] [,2]\n",
       "[1,] 0    5   \n",
       "[2,] 1    0   "
      ]
     },
     "metadata": {},
     "output_type": "display_data"
    }
   ],
   "source": [
    "CUTOFF\n",
    "COSTMATRIX"
   ]
  },
  {
   "cell_type": "markdown",
   "metadata": {},
   "source": [
    "tp fp <br>\n",
    "fn tn "
   ]
  },
  {
   "cell_type": "code",
   "execution_count": 30,
   "metadata": {},
   "outputs": [
    {
     "data": {
      "text/html": [
       "<table>\n",
       "<thead><tr><th scope=col>y_test</th><th scope=col>Count</th></tr></thead>\n",
       "<tbody>\n",
       "\t<tr><td>0  </td><td>130</td></tr>\n",
       "\t<tr><td>1  </td><td> 70</td></tr>\n",
       "</tbody>\n",
       "</table>\n"
      ],
      "text/latex": [
       "\\begin{tabular}{r|ll}\n",
       " y\\_test & Count\\\\\n",
       "\\hline\n",
       "\t 0   & 130\\\\\n",
       "\t 1   &  70\\\\\n",
       "\\end{tabular}\n"
      ],
      "text/markdown": [
       "\n",
       "| y_test | Count |\n",
       "|---|---|\n",
       "| 0   | 130 |\n",
       "| 1   |  70 |\n",
       "\n"
      ],
      "text/plain": [
       "  y_test Count\n",
       "1 0      130  \n",
       "2 1       70  "
      ]
     },
     "metadata": {},
     "output_type": "display_data"
    }
   ],
   "source": [
    "as.data.frame(y_test) %>%\n",
    "        group_by(y_test) %>%\n",
    "        summarize(Count = n())"
   ]
  },
  {
   "cell_type": "code",
   "execution_count": 31,
   "metadata": {
    "scrolled": true
   },
   "outputs": [
    {
     "data": {
      "text/html": [
       "<table>\n",
       "<tbody>\n",
       "\t<tr><td>  7</td><td> 2 </td></tr>\n",
       "\t<tr><td>123</td><td>68 </td></tr>\n",
       "</tbody>\n",
       "</table>\n"
      ],
      "text/latex": [
       "\\begin{tabular}{ll}\n",
       "\t   7 &  2 \\\\\n",
       "\t 123 & 68 \\\\\n",
       "\\end{tabular}\n"
      ],
      "text/markdown": [
       "\n",
       "|   7 |  2  |\n",
       "| 123 | 68  |\n",
       "\n"
      ],
      "text/plain": [
       "     [,1] [,2]\n",
       "[1,]   7   2  \n",
       "[2,] 123  68  "
      ]
     },
     "metadata": {},
     "output_type": "display_data"
    },
    {
     "data": {
      "text/html": [
       "133"
      ],
      "text/latex": [
       "133"
      ],
      "text/markdown": [
       "133"
      ],
      "text/plain": [
       "[1] 133"
      ]
     },
     "metadata": {},
     "output_type": "display_data"
    }
   ],
   "source": [
    "###########################\n",
    "# Fraudulent transactions\n",
    "###########################\n",
    "\n",
    "bc <- replicate(length(y_test), 0)\n",
    "bc[which(MSE_test2 >= 3.2)] <- 1\n",
    "\n",
    "# Create confusion matrix\n",
    "confusionMatrix(y_test, bc)\n",
    "sum(confusionMatrix(y_test,bc)*COSTMATRIX)"
   ]
  },
  {
   "cell_type": "code",
   "execution_count": 32,
   "metadata": {},
   "outputs": [
    {
     "data": {
      "text/html": [
       "<table>\n",
       "<thead><tr><th></th><th scope=col>y_test</th><th scope=col>MSE_test2</th></tr></thead>\n",
       "<tbody>\n",
       "\t<tr><th scope=row>1</th><td>0       </td><td>5.469693</td></tr>\n",
       "\t<tr><th scope=row>3</th><td>0       </td><td>5.300128</td></tr>\n",
       "\t<tr><th scope=row>7</th><td>0       </td><td>6.541562</td></tr>\n",
       "\t<tr><th scope=row>9</th><td>0       </td><td>5.641150</td></tr>\n",
       "\t<tr><th scope=row>12</th><td>1       </td><td>5.778473</td></tr>\n",
       "</tbody>\n",
       "</table>\n"
      ],
      "text/latex": [
       "\\begin{tabular}{r|ll}\n",
       "  & y\\_test & MSE\\_test2\\\\\n",
       "\\hline\n",
       "\t1 & 0        & 5.469693\\\\\n",
       "\t3 & 0        & 5.300128\\\\\n",
       "\t7 & 0        & 6.541562\\\\\n",
       "\t9 & 0        & 5.641150\\\\\n",
       "\t12 & 1        & 5.778473\\\\\n",
       "\\end{tabular}\n"
      ],
      "text/markdown": [
       "\n",
       "| <!--/--> | y_test | MSE_test2 |\n",
       "|---|---|---|\n",
       "| 1 | 0        | 5.469693 |\n",
       "| 3 | 0        | 5.300128 |\n",
       "| 7 | 0        | 6.541562 |\n",
       "| 9 | 0        | 5.641150 |\n",
       "| 12 | 1        | 5.778473 |\n",
       "\n"
      ],
      "text/plain": [
       "   y_test MSE_test2\n",
       "1  0      5.469693 \n",
       "3  0      5.300128 \n",
       "7  0      6.541562 \n",
       "9  0      5.641150 \n",
       "12 1      5.778473 "
      ]
     },
     "metadata": {},
     "output_type": "display_data"
    }
   ],
   "source": [
    "combdata <- as.data.frame(cbind(y_test, MSE_test2))\n",
    "head(combdata, n = 5)"
   ]
  },
  {
   "cell_type": "code",
   "execution_count": 33,
   "metadata": {
    "scrolled": false
   },
   "outputs": [
    {
     "data": {
      "text/html": [
       "'5.27828622785367'"
      ],
      "text/latex": [
       "'5.27828622785367'"
      ],
      "text/markdown": [
       "'5.27828622785367'"
      ],
      "text/plain": [
       "[1] \"5.27828622785367\""
      ]
     },
     "metadata": {},
     "output_type": "display_data"
    },
    {
     "data": {
      "text/html": [
       "'5.75821726880333'"
      ],
      "text/latex": [
       "'5.75821726880333'"
      ],
      "text/markdown": [
       "'5.75821726880333'"
      ],
      "text/plain": [
       "[1] \"5.75821726880333\""
      ]
     },
     "metadata": {},
     "output_type": "display_data"
    },
    {
     "data": {
      "image/png": "[encoded data removed]",
      "text/plain": [
       "plot without title"
      ]
     },
     "metadata": {},
     "output_type": "display_data"
    }
   ],
   "source": [
    "paste(mean(combdata$MSE_test2[combdata$y_test == 0]))\n",
    "paste(mean(combdata$MSE_test2[combdata$y_test == 1]))\n",
    "\n",
    "\n",
    "ggplot(combdata, aes(x = MSE_test2, fill = as.factor(y_test)))+\n",
    "       geom_histogram(binwidth = 0.5, alpha = 0.5, position = \"identity\")"
   ]
  },
  {
   "cell_type": "markdown",
   "metadata": {},
   "source": [
    "Recall that only good credit was used to train the model.  When we called the ‘predict’ function to reconstruct the datasets, all transactions were used.  \n",
    "\n",
    "That means that our model saw bad credit for the first time.  \n",
    "\n",
    "Our assumption is that these bad credit instances will have a higher reconstruction error rate or MSE.  \n",
    "\n",
    "So, there should be a threshold we can use to separate the bad credit from the good credit transactions.  \n",
    "\n",
    "After a manual review of the data, we will set the MSE threshold at _____.  \n",
    "\n",
    "Any transaction with an MSE of ______ or greater will be flagged as bad credit."
   ]
  },
  {
   "cell_type": "markdown",
   "metadata": {},
   "source": [
    "Model identifies: (20% Test Subset)\n",
    "Good credit __ / 130\n",
    "Bad credit __ / 70\n",
    "\n",
    "That may not seem so impressive coming from a neural network, but if you consider that only 30% of observations are bad credit, you quickly realize how impressive the model’s performance actually is.  \n",
    "\n",
    "With a threshold set at _, we incorrectly classify _ records as bad credit when they are not.  \n",
    "\n",
    "That may or may not be acceptable.  \n",
    "It would likely depend on the cost of investigating such cases compared to the loss from fraudulent transactions.  \n",
    "\n",
    "By adjusting the threshold to meet the business needs, we could **minimize the false positives.**\n",
    "\n"
   ]
  },
  {
   "cell_type": "code",
   "execution_count": null,
   "metadata": {},
   "outputs": [],
   "source": []
  },
  {
   "cell_type": "code",
   "execution_count": 34,
   "metadata": {},
   "outputs": [],
   "source": [
    "################################################################################################"
   ]
  },
  {
   "cell_type": "markdown",
   "metadata": {},
   "source": [
    "**Autoencoder 1 - Generate Embedding**"
   ]
  },
  {
   "cell_type": "code",
   "execution_count": 35,
   "metadata": {},
   "outputs": [
    {
     "data": {
      "text/html": [
       "<ol class=list-inline>\n",
       "\t<li>'class'</li>\n",
       "\t<li>'V1'</li>\n",
       "\t<li>'V2'</li>\n",
       "\t<li>'V3'</li>\n",
       "\t<li>'V4'</li>\n",
       "\t<li>'V5'</li>\n",
       "\t<li>'V6'</li>\n",
       "\t<li>'V7'</li>\n",
       "\t<li>'V8'</li>\n",
       "\t<li>'V9'</li>\n",
       "\t<li>'V10'</li>\n",
       "\t<li>'V11'</li>\n",
       "\t<li>'V12'</li>\n",
       "\t<li>'V13'</li>\n",
       "\t<li>'V14'</li>\n",
       "\t<li>'V15'</li>\n",
       "\t<li>'V16'</li>\n",
       "\t<li>'V17'</li>\n",
       "\t<li>'V18'</li>\n",
       "\t<li>'V19'</li>\n",
       "\t<li>'V20'</li>\n",
       "\t<li>'V21'</li>\n",
       "\t<li>'V22'</li>\n",
       "\t<li>'V23'</li>\n",
       "\t<li>'V24'</li>\n",
       "\t<li>'V25'</li>\n",
       "\t<li>'V26'</li>\n",
       "\t<li>'V27'</li>\n",
       "\t<li>'V28'</li>\n",
       "\t<li>'V29'</li>\n",
       "\t<li>'V30'</li>\n",
       "\t<li>'V31'</li>\n",
       "\t<li>'V32'</li>\n",
       "\t<li>'V33'</li>\n",
       "\t<li>'V34'</li>\n",
       "\t<li>'V35'</li>\n",
       "\t<li>'V36'</li>\n",
       "\t<li>'V37'</li>\n",
       "\t<li>'V38'</li>\n",
       "\t<li>'V39'</li>\n",
       "\t<li>'V40'</li>\n",
       "\t<li>'V41'</li>\n",
       "\t<li>'V42'</li>\n",
       "\t<li>'V43'</li>\n",
       "\t<li>'V44'</li>\n",
       "</ol>\n"
      ],
      "text/latex": [
       "\\begin{enumerate*}\n",
       "\\item 'class'\n",
       "\\item 'V1'\n",
       "\\item 'V2'\n",
       "\\item 'V3'\n",
       "\\item 'V4'\n",
       "\\item 'V5'\n",
       "\\item 'V6'\n",
       "\\item 'V7'\n",
       "\\item 'V8'\n",
       "\\item 'V9'\n",
       "\\item 'V10'\n",
       "\\item 'V11'\n",
       "\\item 'V12'\n",
       "\\item 'V13'\n",
       "\\item 'V14'\n",
       "\\item 'V15'\n",
       "\\item 'V16'\n",
       "\\item 'V17'\n",
       "\\item 'V18'\n",
       "\\item 'V19'\n",
       "\\item 'V20'\n",
       "\\item 'V21'\n",
       "\\item 'V22'\n",
       "\\item 'V23'\n",
       "\\item 'V24'\n",
       "\\item 'V25'\n",
       "\\item 'V26'\n",
       "\\item 'V27'\n",
       "\\item 'V28'\n",
       "\\item 'V29'\n",
       "\\item 'V30'\n",
       "\\item 'V31'\n",
       "\\item 'V32'\n",
       "\\item 'V33'\n",
       "\\item 'V34'\n",
       "\\item 'V35'\n",
       "\\item 'V36'\n",
       "\\item 'V37'\n",
       "\\item 'V38'\n",
       "\\item 'V39'\n",
       "\\item 'V40'\n",
       "\\item 'V41'\n",
       "\\item 'V42'\n",
       "\\item 'V43'\n",
       "\\item 'V44'\n",
       "\\end{enumerate*}\n"
      ],
      "text/markdown": [
       "1. 'class'\n",
       "2. 'V1'\n",
       "3. 'V2'\n",
       "4. 'V3'\n",
       "5. 'V4'\n",
       "6. 'V5'\n",
       "7. 'V6'\n",
       "8. 'V7'\n",
       "9. 'V8'\n",
       "10. 'V9'\n",
       "11. 'V10'\n",
       "12. 'V11'\n",
       "13. 'V12'\n",
       "14. 'V13'\n",
       "15. 'V14'\n",
       "16. 'V15'\n",
       "17. 'V16'\n",
       "18. 'V17'\n",
       "19. 'V18'\n",
       "20. 'V19'\n",
       "21. 'V20'\n",
       "22. 'V21'\n",
       "23. 'V22'\n",
       "24. 'V23'\n",
       "25. 'V24'\n",
       "26. 'V25'\n",
       "27. 'V26'\n",
       "28. 'V27'\n",
       "29. 'V28'\n",
       "30. 'V29'\n",
       "31. 'V30'\n",
       "32. 'V31'\n",
       "33. 'V32'\n",
       "34. 'V33'\n",
       "35. 'V34'\n",
       "36. 'V35'\n",
       "37. 'V36'\n",
       "38. 'V37'\n",
       "39. 'V38'\n",
       "40. 'V39'\n",
       "41. 'V40'\n",
       "42. 'V41'\n",
       "43. 'V42'\n",
       "44. 'V43'\n",
       "45. 'V44'\n",
       "\n",
       "\n"
      ],
      "text/plain": [
       " [1] \"class\" \"V1\"    \"V2\"    \"V3\"    \"V4\"    \"V5\"    \"V6\"    \"V7\"    \"V8\"   \n",
       "[10] \"V9\"    \"V10\"   \"V11\"   \"V12\"   \"V13\"   \"V14\"   \"V15\"   \"V16\"   \"V17\"  \n",
       "[19] \"V18\"   \"V19\"   \"V20\"   \"V21\"   \"V22\"   \"V23\"   \"V24\"   \"V25\"   \"V26\"  \n",
       "[28] \"V27\"   \"V28\"   \"V29\"   \"V30\"   \"V31\"   \"V32\"   \"V33\"   \"V34\"   \"V35\"  \n",
       "[37] \"V36\"   \"V37\"   \"V38\"   \"V39\"   \"V40\"   \"V41\"   \"V42\"   \"V43\"   \"V44\"  "
      ]
     },
     "metadata": {},
     "output_type": "display_data"
    },
    {
     "data": {
      "text/html": [
       "<table>\n",
       "<thead><tr><th scope=col>class</th><th scope=col>V1</th><th scope=col>V2</th><th scope=col>V3</th><th scope=col>V4</th><th scope=col>V5</th><th scope=col>V6</th><th scope=col>V7</th><th scope=col>V8</th><th scope=col>V9</th><th scope=col>...</th><th scope=col>V35</th><th scope=col>V36</th><th scope=col>V37</th><th scope=col>V38</th><th scope=col>V39</th><th scope=col>V40</th><th scope=col>V41</th><th scope=col>V42</th><th scope=col>V43</th><th scope=col>V44</th></tr></thead>\n",
       "<tbody>\n",
       "\t<tr><td>good        </td><td> 0.46471727 </td><td>0.05144306  </td><td> 0.4687487  </td><td>0.2839613   </td><td>-0.07195611 </td><td> 0.03159925 </td><td>-0.032665551</td><td> 1.08665073 </td><td> 0.08560292 </td><td>...         </td><td>-0.088676900</td><td>1.1681726   </td><td> 0.866746843</td><td> 0.222311646</td><td>0.32694238  </td><td> 0.03230956 </td><td> 0.93191391 </td><td> 0.08287017 </td><td> 0.25534275 </td><td>0.56937557  </td></tr>\n",
       "\t<tr><td>bad         </td><td> 0.85218096 </td><td>0.06876291  </td><td>-0.0789908  </td><td>0.2073478   </td><td>-0.03109100 </td><td> 0.96657574 </td><td>-0.010982722</td><td> 0.04199069 </td><td>-0.07697742 </td><td>...         </td><td>-0.055961668</td><td>1.1383485   </td><td> 0.744691312</td><td> 0.001433909</td><td>0.02465221  </td><td> 0.22987008 </td><td> 0.99840218 </td><td>-0.24423137 </td><td>-0.09562714 </td><td>0.03522819  </td></tr>\n",
       "\t<tr><td>good        </td><td>-0.14965014 </td><td>0.03139174  </td><td> 0.9222854  </td><td>0.1546583   </td><td> 0.07595685 </td><td>-0.11463469 </td><td> 0.131167844</td><td> 0.86365342 </td><td> 0.05971768 </td><td>...         </td><td> 0.115940407</td><td>0.5868674   </td><td> 1.002829790</td><td>-0.016100779</td><td>0.31630772  </td><td> 0.88832384 </td><td>-0.12892182 </td><td> 0.14862865 </td><td> 0.46088487 </td><td>0.21730590  </td></tr>\n",
       "\t<tr><td>good        </td><td> 0.23992825 </td><td>0.06410908  </td><td> 0.1744498  </td><td>0.2613832   </td><td> 0.05857357 </td><td> 0.95408028 </td><td> 0.091633841</td><td>-0.12262255 </td><td> 0.13902803 </td><td>...         </td><td> 0.029963031</td><td>0.8144447   </td><td> 0.330045819</td><td> 0.420085669</td><td>0.02752091  </td><td>-0.02489647 </td><td> 1.11012602 </td><td>-0.11141601 </td><td> 0.30589241 </td><td>0.33565834  </td></tr>\n",
       "\t<tr><td>bad         </td><td> 0.27942497 </td><td>0.09225488  </td><td> 0.1844000  </td><td>0.3035366   </td><td> 0.14179879 </td><td> 0.30294400 </td><td> 0.185163677</td><td> 0.29692388 </td><td> 0.23723675 </td><td>...         </td><td> 0.063902989</td><td>0.6631776   </td><td>-0.073395178</td><td> 0.752593875</td><td>0.14880389  </td><td> 0.01392871 </td><td> 0.99260837 </td><td>-0.06264514 </td><td> 0.30461365 </td><td>0.21610498  </td></tr>\n",
       "\t<tr><td>good        </td><td>-0.06594481 </td><td>0.01046035  </td><td> 0.8539189  </td><td>0.2787667   </td><td>-0.01211040 </td><td> 0.93826336 </td><td>-0.004192457</td><td> 0.05252398 </td><td> 0.30322546 </td><td>...         </td><td>-0.006408989</td><td>0.8859273   </td><td> 0.009143218</td><td> 0.678305387</td><td>0.03246274  </td><td> 0.55950737 </td><td>-0.05038717 </td><td> 0.44779101 </td><td> 0.43526804 </td><td>0.75531703  </td></tr>\n",
       "</tbody>\n",
       "</table>\n"
      ],
      "text/latex": [
       "\\begin{tabular}{r|lllllllllllllllllllllllllllllllllllllllllllll}\n",
       " class & V1 & V2 & V3 & V4 & V5 & V6 & V7 & V8 & V9 & ... & V35 & V36 & V37 & V38 & V39 & V40 & V41 & V42 & V43 & V44\\\\\n",
       "\\hline\n",
       "\t good         &  0.46471727  & 0.05144306   &  0.4687487   & 0.2839613    & -0.07195611  &  0.03159925  & -0.032665551 &  1.08665073  &  0.08560292  & ...          & -0.088676900 & 1.1681726    &  0.866746843 &  0.222311646 & 0.32694238   &  0.03230956  &  0.93191391  &  0.08287017  &  0.25534275  & 0.56937557  \\\\\n",
       "\t bad          &  0.85218096  & 0.06876291   & -0.0789908   & 0.2073478    & -0.03109100  &  0.96657574  & -0.010982722 &  0.04199069  & -0.07697742  & ...          & -0.055961668 & 1.1383485    &  0.744691312 &  0.001433909 & 0.02465221   &  0.22987008  &  0.99840218  & -0.24423137  & -0.09562714  & 0.03522819  \\\\\n",
       "\t good         & -0.14965014  & 0.03139174   &  0.9222854   & 0.1546583    &  0.07595685  & -0.11463469  &  0.131167844 &  0.86365342  &  0.05971768  & ...          &  0.115940407 & 0.5868674    &  1.002829790 & -0.016100779 & 0.31630772   &  0.88832384  & -0.12892182  &  0.14862865  &  0.46088487  & 0.21730590  \\\\\n",
       "\t good         &  0.23992825  & 0.06410908   &  0.1744498   & 0.2613832    &  0.05857357  &  0.95408028  &  0.091633841 & -0.12262255  &  0.13902803  & ...          &  0.029963031 & 0.8144447    &  0.330045819 &  0.420085669 & 0.02752091   & -0.02489647  &  1.11012602  & -0.11141601  &  0.30589241  & 0.33565834  \\\\\n",
       "\t bad          &  0.27942497  & 0.09225488   &  0.1844000   & 0.3035366    &  0.14179879  &  0.30294400  &  0.185163677 &  0.29692388  &  0.23723675  & ...          &  0.063902989 & 0.6631776    & -0.073395178 &  0.752593875 & 0.14880389   &  0.01392871  &  0.99260837  & -0.06264514  &  0.30461365  & 0.21610498  \\\\\n",
       "\t good         & -0.06594481  & 0.01046035   &  0.8539189   & 0.2787667    & -0.01211040  &  0.93826336  & -0.004192457 &  0.05252398  &  0.30322546  & ...          & -0.006408989 & 0.8859273    &  0.009143218 &  0.678305387 & 0.03246274   &  0.55950737  & -0.05038717  &  0.44779101  &  0.43526804  & 0.75531703  \\\\\n",
       "\\end{tabular}\n"
      ],
      "text/markdown": [
       "\n",
       "| class | V1 | V2 | V3 | V4 | V5 | V6 | V7 | V8 | V9 | ... | V35 | V36 | V37 | V38 | V39 | V40 | V41 | V42 | V43 | V44 |\n",
       "|---|---|---|---|---|---|---|---|---|---|---|---|---|---|---|---|---|---|---|---|---|\n",
       "| good         |  0.46471727  | 0.05144306   |  0.4687487   | 0.2839613    | -0.07195611  |  0.03159925  | -0.032665551 |  1.08665073  |  0.08560292  | ...          | -0.088676900 | 1.1681726    |  0.866746843 |  0.222311646 | 0.32694238   |  0.03230956  |  0.93191391  |  0.08287017  |  0.25534275  | 0.56937557   |\n",
       "| bad          |  0.85218096  | 0.06876291   | -0.0789908   | 0.2073478    | -0.03109100  |  0.96657574  | -0.010982722 |  0.04199069  | -0.07697742  | ...          | -0.055961668 | 1.1383485    |  0.744691312 |  0.001433909 | 0.02465221   |  0.22987008  |  0.99840218  | -0.24423137  | -0.09562714  | 0.03522819   |\n",
       "| good         | -0.14965014  | 0.03139174   |  0.9222854   | 0.1546583    |  0.07595685  | -0.11463469  |  0.131167844 |  0.86365342  |  0.05971768  | ...          |  0.115940407 | 0.5868674    |  1.002829790 | -0.016100779 | 0.31630772   |  0.88832384  | -0.12892182  |  0.14862865  |  0.46088487  | 0.21730590   |\n",
       "| good         |  0.23992825  | 0.06410908   |  0.1744498   | 0.2613832    |  0.05857357  |  0.95408028  |  0.091633841 | -0.12262255  |  0.13902803  | ...          |  0.029963031 | 0.8144447    |  0.330045819 |  0.420085669 | 0.02752091   | -0.02489647  |  1.11012602  | -0.11141601  |  0.30589241  | 0.33565834   |\n",
       "| bad          |  0.27942497  | 0.09225488   |  0.1844000   | 0.3035366    |  0.14179879  |  0.30294400  |  0.185163677 |  0.29692388  |  0.23723675  | ...          |  0.063902989 | 0.6631776    | -0.073395178 |  0.752593875 | 0.14880389   |  0.01392871  |  0.99260837  | -0.06264514  |  0.30461365  | 0.21610498   |\n",
       "| good         | -0.06594481  | 0.01046035   |  0.8539189   | 0.2787667    | -0.01211040  |  0.93826336  | -0.004192457 |  0.05252398  |  0.30322546  | ...          | -0.006408989 | 0.8859273    |  0.009143218 |  0.678305387 | 0.03246274   |  0.55950737  | -0.05038717  |  0.44779101  |  0.43526804  | 0.75531703   |\n",
       "\n"
      ],
      "text/plain": [
       "  class V1          V2         V3         V4        V5          V6         \n",
       "1 good   0.46471727 0.05144306  0.4687487 0.2839613 -0.07195611  0.03159925\n",
       "2 bad    0.85218096 0.06876291 -0.0789908 0.2073478 -0.03109100  0.96657574\n",
       "3 good  -0.14965014 0.03139174  0.9222854 0.1546583  0.07595685 -0.11463469\n",
       "4 good   0.23992825 0.06410908  0.1744498 0.2613832  0.05857357  0.95408028\n",
       "5 bad    0.27942497 0.09225488  0.1844000 0.3035366  0.14179879  0.30294400\n",
       "6 good  -0.06594481 0.01046035  0.8539189 0.2787667 -0.01211040  0.93826336\n",
       "  V7           V8          V9          ... V35          V36       V37         \n",
       "1 -0.032665551  1.08665073  0.08560292 ... -0.088676900 1.1681726  0.866746843\n",
       "2 -0.010982722  0.04199069 -0.07697742 ... -0.055961668 1.1383485  0.744691312\n",
       "3  0.131167844  0.86365342  0.05971768 ...  0.115940407 0.5868674  1.002829790\n",
       "4  0.091633841 -0.12262255  0.13902803 ...  0.029963031 0.8144447  0.330045819\n",
       "5  0.185163677  0.29692388  0.23723675 ...  0.063902989 0.6631776 -0.073395178\n",
       "6 -0.004192457  0.05252398  0.30322546 ... -0.006408989 0.8859273  0.009143218\n",
       "  V38          V39        V40         V41         V42         V43        \n",
       "1  0.222311646 0.32694238  0.03230956  0.93191391  0.08287017  0.25534275\n",
       "2  0.001433909 0.02465221  0.22987008  0.99840218 -0.24423137 -0.09562714\n",
       "3 -0.016100779 0.31630772  0.88832384 -0.12892182  0.14862865  0.46088487\n",
       "4  0.420085669 0.02752091 -0.02489647  1.11012602 -0.11141601  0.30589241\n",
       "5  0.752593875 0.14880389  0.01392871  0.99260837 -0.06264514  0.30461365\n",
       "6  0.678305387 0.03246274  0.55950737 -0.05038717  0.44779101  0.43526804\n",
       "  V44       \n",
       "1 0.56937557\n",
       "2 0.03522819\n",
       "3 0.21730590\n",
       "4 0.33565834\n",
       "5 0.21610498\n",
       "6 0.75531703"
      ]
     },
     "metadata": {},
     "output_type": "display_data"
    },
    {
     "data": {
      "text/html": [
       "<ol class=list-inline>\n",
       "\t<li>1000</li>\n",
       "\t<li>22</li>\n",
       "</ol>\n"
      ],
      "text/latex": [
       "\\begin{enumerate*}\n",
       "\\item 1000\n",
       "\\item 22\n",
       "\\end{enumerate*}\n"
      ],
      "text/markdown": [
       "1. 1000\n",
       "2. 22\n",
       "\n",
       "\n"
      ],
      "text/plain": [
       "[1] 1000   22"
      ]
     },
     "metadata": {},
     "output_type": "display_data"
    },
    {
     "data": {
      "text/html": [
       "<ol class=list-inline>\n",
       "\t<li>1000</li>\n",
       "\t<li>45</li>\n",
       "</ol>\n"
      ],
      "text/latex": [
       "\\begin{enumerate*}\n",
       "\\item 1000\n",
       "\\item 45\n",
       "\\end{enumerate*}\n"
      ],
      "text/markdown": [
       "1. 1000\n",
       "2. 45\n",
       "\n",
       "\n"
      ],
      "text/plain": [
       "[1] 1000   45"
      ]
     },
     "metadata": {},
     "output_type": "display_data"
    }
   ],
   "source": [
    "#Autoencoder 1 - Generate Embedding----\n",
    "\n",
    "#The Combined Model, Generate Embedding\n",
    "minmax_data_frame_train <- minmax_data_frame %>%\n",
    "  as.matrix()\n",
    "\n",
    "pred_all <- predict(model, minmax_data_frame_train)\n",
    "\n",
    "pred_all <- as.data.frame(pred_all)\n",
    "\n",
    "#bind with credit class\n",
    "credit2 <- cbind(credit$class, pred_all)\n",
    "\n",
    "#change column name\n",
    "colnames(credit2)[1] <- c(\"class\")\n",
    "\n",
    "names(credit2)\n",
    "head(credit2)\n",
    "dim(credit)\n",
    "dim(credit2)"
   ]
  },
  {
   "cell_type": "markdown",
   "metadata": {},
   "source": [
    "**Autoencoder 2 - Generate Embedding**"
   ]
  },
  {
   "cell_type": "code",
   "execution_count": 36,
   "metadata": {},
   "outputs": [
    {
     "data": {
      "text/html": [
       "<ol class=list-inline>\n",
       "\t<li>'class'</li>\n",
       "\t<li>'V1'</li>\n",
       "\t<li>'V2'</li>\n",
       "\t<li>'V3'</li>\n",
       "\t<li>'V4'</li>\n",
       "\t<li>'V5'</li>\n",
       "\t<li>'V6'</li>\n",
       "\t<li>'V7'</li>\n",
       "\t<li>'V8'</li>\n",
       "\t<li>'V9'</li>\n",
       "\t<li>'V10'</li>\n",
       "\t<li>'V11'</li>\n",
       "\t<li>'V12'</li>\n",
       "\t<li>'V13'</li>\n",
       "\t<li>'V14'</li>\n",
       "\t<li>'V15'</li>\n",
       "\t<li>'V16'</li>\n",
       "\t<li>'V17'</li>\n",
       "\t<li>'V18'</li>\n",
       "\t<li>'V19'</li>\n",
       "\t<li>'V20'</li>\n",
       "\t<li>'V21'</li>\n",
       "\t<li>'V22'</li>\n",
       "\t<li>'V23'</li>\n",
       "\t<li>'V24'</li>\n",
       "\t<li>'V25'</li>\n",
       "\t<li>'V26'</li>\n",
       "\t<li>'V27'</li>\n",
       "\t<li>'V28'</li>\n",
       "\t<li>'V29'</li>\n",
       "\t<li>'V30'</li>\n",
       "\t<li>'V31'</li>\n",
       "\t<li>'V32'</li>\n",
       "\t<li>'V33'</li>\n",
       "\t<li>'V34'</li>\n",
       "\t<li>'V35'</li>\n",
       "\t<li>'V36'</li>\n",
       "\t<li>'V37'</li>\n",
       "\t<li>'V38'</li>\n",
       "\t<li>'V39'</li>\n",
       "\t<li>'V40'</li>\n",
       "\t<li>'V41'</li>\n",
       "\t<li>'V42'</li>\n",
       "\t<li>'V43'</li>\n",
       "\t<li>'V44'</li>\n",
       "</ol>\n"
      ],
      "text/latex": [
       "\\begin{enumerate*}\n",
       "\\item 'class'\n",
       "\\item 'V1'\n",
       "\\item 'V2'\n",
       "\\item 'V3'\n",
       "\\item 'V4'\n",
       "\\item 'V5'\n",
       "\\item 'V6'\n",
       "\\item 'V7'\n",
       "\\item 'V8'\n",
       "\\item 'V9'\n",
       "\\item 'V10'\n",
       "\\item 'V11'\n",
       "\\item 'V12'\n",
       "\\item 'V13'\n",
       "\\item 'V14'\n",
       "\\item 'V15'\n",
       "\\item 'V16'\n",
       "\\item 'V17'\n",
       "\\item 'V18'\n",
       "\\item 'V19'\n",
       "\\item 'V20'\n",
       "\\item 'V21'\n",
       "\\item 'V22'\n",
       "\\item 'V23'\n",
       "\\item 'V24'\n",
       "\\item 'V25'\n",
       "\\item 'V26'\n",
       "\\item 'V27'\n",
       "\\item 'V28'\n",
       "\\item 'V29'\n",
       "\\item 'V30'\n",
       "\\item 'V31'\n",
       "\\item 'V32'\n",
       "\\item 'V33'\n",
       "\\item 'V34'\n",
       "\\item 'V35'\n",
       "\\item 'V36'\n",
       "\\item 'V37'\n",
       "\\item 'V38'\n",
       "\\item 'V39'\n",
       "\\item 'V40'\n",
       "\\item 'V41'\n",
       "\\item 'V42'\n",
       "\\item 'V43'\n",
       "\\item 'V44'\n",
       "\\end{enumerate*}\n"
      ],
      "text/markdown": [
       "1. 'class'\n",
       "2. 'V1'\n",
       "3. 'V2'\n",
       "4. 'V3'\n",
       "5. 'V4'\n",
       "6. 'V5'\n",
       "7. 'V6'\n",
       "8. 'V7'\n",
       "9. 'V8'\n",
       "10. 'V9'\n",
       "11. 'V10'\n",
       "12. 'V11'\n",
       "13. 'V12'\n",
       "14. 'V13'\n",
       "15. 'V14'\n",
       "16. 'V15'\n",
       "17. 'V16'\n",
       "18. 'V17'\n",
       "19. 'V18'\n",
       "20. 'V19'\n",
       "21. 'V20'\n",
       "22. 'V21'\n",
       "23. 'V22'\n",
       "24. 'V23'\n",
       "25. 'V24'\n",
       "26. 'V25'\n",
       "27. 'V26'\n",
       "28. 'V27'\n",
       "29. 'V28'\n",
       "30. 'V29'\n",
       "31. 'V30'\n",
       "32. 'V31'\n",
       "33. 'V32'\n",
       "34. 'V33'\n",
       "35. 'V34'\n",
       "36. 'V35'\n",
       "37. 'V36'\n",
       "38. 'V37'\n",
       "39. 'V38'\n",
       "40. 'V39'\n",
       "41. 'V40'\n",
       "42. 'V41'\n",
       "43. 'V42'\n",
       "44. 'V43'\n",
       "45. 'V44'\n",
       "\n",
       "\n"
      ],
      "text/plain": [
       " [1] \"class\" \"V1\"    \"V2\"    \"V3\"    \"V4\"    \"V5\"    \"V6\"    \"V7\"    \"V8\"   \n",
       "[10] \"V9\"    \"V10\"   \"V11\"   \"V12\"   \"V13\"   \"V14\"   \"V15\"   \"V16\"   \"V17\"  \n",
       "[19] \"V18\"   \"V19\"   \"V20\"   \"V21\"   \"V22\"   \"V23\"   \"V24\"   \"V25\"   \"V26\"  \n",
       "[28] \"V27\"   \"V28\"   \"V29\"   \"V30\"   \"V31\"   \"V32\"   \"V33\"   \"V34\"   \"V35\"  \n",
       "[37] \"V36\"   \"V37\"   \"V38\"   \"V39\"   \"V40\"   \"V41\"   \"V42\"   \"V43\"   \"V44\"  "
      ]
     },
     "metadata": {},
     "output_type": "display_data"
    },
    {
     "data": {
      "text/html": [
       "<table>\n",
       "<thead><tr><th scope=col>class</th><th scope=col>V1</th><th scope=col>V2</th><th scope=col>V3</th><th scope=col>V4</th><th scope=col>V5</th><th scope=col>V6</th><th scope=col>V7</th><th scope=col>V8</th><th scope=col>V9</th><th scope=col>...</th><th scope=col>V35</th><th scope=col>V36</th><th scope=col>V37</th><th scope=col>V38</th><th scope=col>V39</th><th scope=col>V40</th><th scope=col>V41</th><th scope=col>V42</th><th scope=col>V43</th><th scope=col>V44</th></tr></thead>\n",
       "<tbody>\n",
       "\t<tr><td>good        </td><td> 0.3797420  </td><td>0.07605612  </td><td> 0.4930964  </td><td>0.2459911   </td><td>-0.04591046 </td><td> 0.03176861 </td><td>-0.002145521</td><td> 1.03261209 </td><td> 0.03686857 </td><td>...         </td><td>-0.03972964 </td><td>1.0270182   </td><td> 0.9700727  </td><td>0.10763618  </td><td>0.2932496667</td><td>-0.0902712  </td><td> 0.91626680 </td><td> 0.17510101 </td><td> 0.09893733 </td><td>0.664475262 </td></tr>\n",
       "\t<tr><td>bad         </td><td> 0.7735068  </td><td>0.11276056  </td><td>-0.1179051  </td><td>0.2015517   </td><td>-0.01641141 </td><td> 0.94643080 </td><td> 0.020546790</td><td> 0.03970037 </td><td>-0.09562798 </td><td>...         </td><td>-0.01830066 </td><td>1.0381631   </td><td> 0.7678642  </td><td>0.04800478  </td><td>0.0003398508</td><td> 0.1123427  </td><td> 0.96923959 </td><td>-0.08892281 </td><td>-0.17011471 </td><td>0.152889341 </td></tr>\n",
       "\t<tr><td>good        </td><td>-0.2492417  </td><td>0.04138051  </td><td> 0.9646915  </td><td>0.1754511   </td><td> 0.15547991 </td><td>-0.16535847 </td><td> 0.196923018</td><td> 0.80106211 </td><td> 0.09440933 </td><td>...         </td><td> 0.14164956 </td><td>0.4599734   </td><td> 0.8967418  </td><td>0.02493355  </td><td>0.3451231718</td><td> 0.9484958  </td><td>-0.08824412 </td><td> 0.09173150 </td><td> 0.59644526 </td><td>0.005624792 </td></tr>\n",
       "\t<tr><td>good        </td><td> 0.1263657  </td><td>0.07803749  </td><td> 0.2145106  </td><td>0.2750932   </td><td> 0.12144022 </td><td> 0.90476120 </td><td> 0.134398356</td><td>-0.22454137 </td><td> 0.16256347 </td><td>...         </td><td> 0.07292562 </td><td>0.6250340   </td><td> 0.1910837  </td><td>0.45004147  </td><td>0.0364855900</td><td> 0.0610704  </td><td> 1.07621753 </td><td>-0.15471509 </td><td> 0.42457873 </td><td>0.117414981 </td></tr>\n",
       "\t<tr><td>bad         </td><td> 0.2699379  </td><td>0.10375090  </td><td> 0.2443057  </td><td>0.3188406   </td><td> 0.20285925 </td><td> 0.20526338 </td><td> 0.177917138</td><td> 0.33014166 </td><td> 0.22063193 </td><td>...         </td><td> 0.07805909 </td><td>0.6012485   </td><td>-0.1827338  </td><td>0.80302906  </td><td>0.1699872315</td><td> 0.1306520  </td><td> 1.01550388 </td><td>-0.16222253 </td><td> 0.40844828 </td><td>0.043940432 </td></tr>\n",
       "\t<tr><td>good        </td><td>-0.2564003  </td><td>0.02902527  </td><td> 0.9463166  </td><td>0.2993565   </td><td> 0.07144959 </td><td> 0.88064003 </td><td> 0.056045633</td><td>-0.05297976 </td><td> 0.32087162 </td><td>...         </td><td> 0.06564501 </td><td>0.6702157   </td><td>-0.1510382  </td><td>0.76843131  </td><td>0.0767138451</td><td> 0.5549769  </td><td>-0.10228344 </td><td> 0.50846225 </td><td> 0.47438794 </td><td>0.743964255 </td></tr>\n",
       "</tbody>\n",
       "</table>\n"
      ],
      "text/latex": [
       "\\begin{tabular}{r|lllllllllllllllllllllllllllllllllllllllllllll}\n",
       " class & V1 & V2 & V3 & V4 & V5 & V6 & V7 & V8 & V9 & ... & V35 & V36 & V37 & V38 & V39 & V40 & V41 & V42 & V43 & V44\\\\\n",
       "\\hline\n",
       "\t good         &  0.3797420   & 0.07605612   &  0.4930964   & 0.2459911    & -0.04591046  &  0.03176861  & -0.002145521 &  1.03261209  &  0.03686857  & ...          & -0.03972964  & 1.0270182    &  0.9700727   & 0.10763618   & 0.2932496667 & -0.0902712   &  0.91626680  &  0.17510101  &  0.09893733  & 0.664475262 \\\\\n",
       "\t bad          &  0.7735068   & 0.11276056   & -0.1179051   & 0.2015517    & -0.01641141  &  0.94643080  &  0.020546790 &  0.03970037  & -0.09562798  & ...          & -0.01830066  & 1.0381631    &  0.7678642   & 0.04800478   & 0.0003398508 &  0.1123427   &  0.96923959  & -0.08892281  & -0.17011471  & 0.152889341 \\\\\n",
       "\t good         & -0.2492417   & 0.04138051   &  0.9646915   & 0.1754511    &  0.15547991  & -0.16535847  &  0.196923018 &  0.80106211  &  0.09440933  & ...          &  0.14164956  & 0.4599734    &  0.8967418   & 0.02493355   & 0.3451231718 &  0.9484958   & -0.08824412  &  0.09173150  &  0.59644526  & 0.005624792 \\\\\n",
       "\t good         &  0.1263657   & 0.07803749   &  0.2145106   & 0.2750932    &  0.12144022  &  0.90476120  &  0.134398356 & -0.22454137  &  0.16256347  & ...          &  0.07292562  & 0.6250340    &  0.1910837   & 0.45004147   & 0.0364855900 &  0.0610704   &  1.07621753  & -0.15471509  &  0.42457873  & 0.117414981 \\\\\n",
       "\t bad          &  0.2699379   & 0.10375090   &  0.2443057   & 0.3188406    &  0.20285925  &  0.20526338  &  0.177917138 &  0.33014166  &  0.22063193  & ...          &  0.07805909  & 0.6012485    & -0.1827338   & 0.80302906   & 0.1699872315 &  0.1306520   &  1.01550388  & -0.16222253  &  0.40844828  & 0.043940432 \\\\\n",
       "\t good         & -0.2564003   & 0.02902527   &  0.9463166   & 0.2993565    &  0.07144959  &  0.88064003  &  0.056045633 & -0.05297976  &  0.32087162  & ...          &  0.06564501  & 0.6702157    & -0.1510382   & 0.76843131   & 0.0767138451 &  0.5549769   & -0.10228344  &  0.50846225  &  0.47438794  & 0.743964255 \\\\\n",
       "\\end{tabular}\n"
      ],
      "text/markdown": [
       "\n",
       "| class | V1 | V2 | V3 | V4 | V5 | V6 | V7 | V8 | V9 | ... | V35 | V36 | V37 | V38 | V39 | V40 | V41 | V42 | V43 | V44 |\n",
       "|---|---|---|---|---|---|---|---|---|---|---|---|---|---|---|---|---|---|---|---|---|\n",
       "| good         |  0.3797420   | 0.07605612   |  0.4930964   | 0.2459911    | -0.04591046  |  0.03176861  | -0.002145521 |  1.03261209  |  0.03686857  | ...          | -0.03972964  | 1.0270182    |  0.9700727   | 0.10763618   | 0.2932496667 | -0.0902712   |  0.91626680  |  0.17510101  |  0.09893733  | 0.664475262  |\n",
       "| bad          |  0.7735068   | 0.11276056   | -0.1179051   | 0.2015517    | -0.01641141  |  0.94643080  |  0.020546790 |  0.03970037  | -0.09562798  | ...          | -0.01830066  | 1.0381631    |  0.7678642   | 0.04800478   | 0.0003398508 |  0.1123427   |  0.96923959  | -0.08892281  | -0.17011471  | 0.152889341  |\n",
       "| good         | -0.2492417   | 0.04138051   |  0.9646915   | 0.1754511    |  0.15547991  | -0.16535847  |  0.196923018 |  0.80106211  |  0.09440933  | ...          |  0.14164956  | 0.4599734    |  0.8967418   | 0.02493355   | 0.3451231718 |  0.9484958   | -0.08824412  |  0.09173150  |  0.59644526  | 0.005624792  |\n",
       "| good         |  0.1263657   | 0.07803749   |  0.2145106   | 0.2750932    |  0.12144022  |  0.90476120  |  0.134398356 | -0.22454137  |  0.16256347  | ...          |  0.07292562  | 0.6250340    |  0.1910837   | 0.45004147   | 0.0364855900 |  0.0610704   |  1.07621753  | -0.15471509  |  0.42457873  | 0.117414981  |\n",
       "| bad          |  0.2699379   | 0.10375090   |  0.2443057   | 0.3188406    |  0.20285925  |  0.20526338  |  0.177917138 |  0.33014166  |  0.22063193  | ...          |  0.07805909  | 0.6012485    | -0.1827338   | 0.80302906   | 0.1699872315 |  0.1306520   |  1.01550388  | -0.16222253  |  0.40844828  | 0.043940432  |\n",
       "| good         | -0.2564003   | 0.02902527   |  0.9463166   | 0.2993565    |  0.07144959  |  0.88064003  |  0.056045633 | -0.05297976  |  0.32087162  | ...          |  0.06564501  | 0.6702157    | -0.1510382   | 0.76843131   | 0.0767138451 |  0.5549769   | -0.10228344  |  0.50846225  |  0.47438794  | 0.743964255  |\n",
       "\n"
      ],
      "text/plain": [
       "  class V1         V2         V3         V4        V5          V6         \n",
       "1 good   0.3797420 0.07605612  0.4930964 0.2459911 -0.04591046  0.03176861\n",
       "2 bad    0.7735068 0.11276056 -0.1179051 0.2015517 -0.01641141  0.94643080\n",
       "3 good  -0.2492417 0.04138051  0.9646915 0.1754511  0.15547991 -0.16535847\n",
       "4 good   0.1263657 0.07803749  0.2145106 0.2750932  0.12144022  0.90476120\n",
       "5 bad    0.2699379 0.10375090  0.2443057 0.3188406  0.20285925  0.20526338\n",
       "6 good  -0.2564003 0.02902527  0.9463166 0.2993565  0.07144959  0.88064003\n",
       "  V7           V8          V9          ... V35         V36       V37       \n",
       "1 -0.002145521  1.03261209  0.03686857 ... -0.03972964 1.0270182  0.9700727\n",
       "2  0.020546790  0.03970037 -0.09562798 ... -0.01830066 1.0381631  0.7678642\n",
       "3  0.196923018  0.80106211  0.09440933 ...  0.14164956 0.4599734  0.8967418\n",
       "4  0.134398356 -0.22454137  0.16256347 ...  0.07292562 0.6250340  0.1910837\n",
       "5  0.177917138  0.33014166  0.22063193 ...  0.07805909 0.6012485 -0.1827338\n",
       "6  0.056045633 -0.05297976  0.32087162 ...  0.06564501 0.6702157 -0.1510382\n",
       "  V38        V39          V40        V41         V42         V43        \n",
       "1 0.10763618 0.2932496667 -0.0902712  0.91626680  0.17510101  0.09893733\n",
       "2 0.04800478 0.0003398508  0.1123427  0.96923959 -0.08892281 -0.17011471\n",
       "3 0.02493355 0.3451231718  0.9484958 -0.08824412  0.09173150  0.59644526\n",
       "4 0.45004147 0.0364855900  0.0610704  1.07621753 -0.15471509  0.42457873\n",
       "5 0.80302906 0.1699872315  0.1306520  1.01550388 -0.16222253  0.40844828\n",
       "6 0.76843131 0.0767138451  0.5549769 -0.10228344  0.50846225  0.47438794\n",
       "  V44        \n",
       "1 0.664475262\n",
       "2 0.152889341\n",
       "3 0.005624792\n",
       "4 0.117414981\n",
       "5 0.043940432\n",
       "6 0.743964255"
      ]
     },
     "metadata": {},
     "output_type": "display_data"
    },
    {
     "data": {
      "text/html": [
       "<ol class=list-inline>\n",
       "\t<li>1000</li>\n",
       "\t<li>45</li>\n",
       "</ol>\n"
      ],
      "text/latex": [
       "\\begin{enumerate*}\n",
       "\\item 1000\n",
       "\\item 45\n",
       "\\end{enumerate*}\n"
      ],
      "text/markdown": [
       "1. 1000\n",
       "2. 45\n",
       "\n",
       "\n"
      ],
      "text/plain": [
       "[1] 1000   45"
      ]
     },
     "metadata": {},
     "output_type": "display_data"
    }
   ],
   "source": [
    "#Autoencoder 2 - Generate Embedding----\n",
    "\n",
    "pred_all2 <- predict(model2b, minmax_data_frame_train)\n",
    "\n",
    "pred_all2 <- as.data.frame(pred_all2)\n",
    "\n",
    "#bind with credit class\n",
    "credit3 <- cbind(credit$class, pred_all2)\n",
    "\n",
    "#change column name\n",
    "colnames(credit3)[1] <- c(\"class\")\n",
    "\n",
    "names(credit3)\n",
    "head(credit3)\n",
    "dim(credit3)"
   ]
  },
  {
   "cell_type": "markdown",
   "metadata": {},
   "source": [
    "**Autoencoder 3 - Generate Embedding**"
   ]
  },
  {
   "cell_type": "code",
   "execution_count": 37,
   "metadata": {},
   "outputs": [
    {
     "data": {
      "text/html": [
       "<ol class=list-inline>\n",
       "\t<li>'class'</li>\n",
       "\t<li>'V1'</li>\n",
       "\t<li>'V2'</li>\n",
       "\t<li>'V3'</li>\n",
       "\t<li>'V4'</li>\n",
       "\t<li>'V5'</li>\n",
       "\t<li>'V6'</li>\n",
       "\t<li>'V7'</li>\n",
       "\t<li>'V8'</li>\n",
       "\t<li>'V9'</li>\n",
       "\t<li>'V10'</li>\n",
       "\t<li>'V11'</li>\n",
       "\t<li>'V12'</li>\n",
       "\t<li>'V13'</li>\n",
       "\t<li>'V14'</li>\n",
       "\t<li>'V15'</li>\n",
       "\t<li>'V16'</li>\n",
       "\t<li>'V17'</li>\n",
       "\t<li>'V18'</li>\n",
       "\t<li>'V19'</li>\n",
       "\t<li>'V20'</li>\n",
       "\t<li>'V21'</li>\n",
       "\t<li>'V22'</li>\n",
       "\t<li>'V23'</li>\n",
       "\t<li>'V24'</li>\n",
       "\t<li>'V25'</li>\n",
       "\t<li>'V26'</li>\n",
       "\t<li>'V27'</li>\n",
       "\t<li>'V28'</li>\n",
       "\t<li>'V29'</li>\n",
       "\t<li>'V30'</li>\n",
       "\t<li>'V31'</li>\n",
       "\t<li>'V32'</li>\n",
       "\t<li>'V33'</li>\n",
       "\t<li>'V34'</li>\n",
       "\t<li>'V35'</li>\n",
       "\t<li>'V36'</li>\n",
       "\t<li>'V37'</li>\n",
       "\t<li>'V38'</li>\n",
       "\t<li>'V39'</li>\n",
       "\t<li>'V40'</li>\n",
       "\t<li>'V41'</li>\n",
       "\t<li>'V42'</li>\n",
       "\t<li>'V43'</li>\n",
       "\t<li>'V44'</li>\n",
       "</ol>\n"
      ],
      "text/latex": [
       "\\begin{enumerate*}\n",
       "\\item 'class'\n",
       "\\item 'V1'\n",
       "\\item 'V2'\n",
       "\\item 'V3'\n",
       "\\item 'V4'\n",
       "\\item 'V5'\n",
       "\\item 'V6'\n",
       "\\item 'V7'\n",
       "\\item 'V8'\n",
       "\\item 'V9'\n",
       "\\item 'V10'\n",
       "\\item 'V11'\n",
       "\\item 'V12'\n",
       "\\item 'V13'\n",
       "\\item 'V14'\n",
       "\\item 'V15'\n",
       "\\item 'V16'\n",
       "\\item 'V17'\n",
       "\\item 'V18'\n",
       "\\item 'V19'\n",
       "\\item 'V20'\n",
       "\\item 'V21'\n",
       "\\item 'V22'\n",
       "\\item 'V23'\n",
       "\\item 'V24'\n",
       "\\item 'V25'\n",
       "\\item 'V26'\n",
       "\\item 'V27'\n",
       "\\item 'V28'\n",
       "\\item 'V29'\n",
       "\\item 'V30'\n",
       "\\item 'V31'\n",
       "\\item 'V32'\n",
       "\\item 'V33'\n",
       "\\item 'V34'\n",
       "\\item 'V35'\n",
       "\\item 'V36'\n",
       "\\item 'V37'\n",
       "\\item 'V38'\n",
       "\\item 'V39'\n",
       "\\item 'V40'\n",
       "\\item 'V41'\n",
       "\\item 'V42'\n",
       "\\item 'V43'\n",
       "\\item 'V44'\n",
       "\\end{enumerate*}\n"
      ],
      "text/markdown": [
       "1. 'class'\n",
       "2. 'V1'\n",
       "3. 'V2'\n",
       "4. 'V3'\n",
       "5. 'V4'\n",
       "6. 'V5'\n",
       "7. 'V6'\n",
       "8. 'V7'\n",
       "9. 'V8'\n",
       "10. 'V9'\n",
       "11. 'V10'\n",
       "12. 'V11'\n",
       "13. 'V12'\n",
       "14. 'V13'\n",
       "15. 'V14'\n",
       "16. 'V15'\n",
       "17. 'V16'\n",
       "18. 'V17'\n",
       "19. 'V18'\n",
       "20. 'V19'\n",
       "21. 'V20'\n",
       "22. 'V21'\n",
       "23. 'V22'\n",
       "24. 'V23'\n",
       "25. 'V24'\n",
       "26. 'V25'\n",
       "27. 'V26'\n",
       "28. 'V27'\n",
       "29. 'V28'\n",
       "30. 'V29'\n",
       "31. 'V30'\n",
       "32. 'V31'\n",
       "33. 'V32'\n",
       "34. 'V33'\n",
       "35. 'V34'\n",
       "36. 'V35'\n",
       "37. 'V36'\n",
       "38. 'V37'\n",
       "39. 'V38'\n",
       "40. 'V39'\n",
       "41. 'V40'\n",
       "42. 'V41'\n",
       "43. 'V42'\n",
       "44. 'V43'\n",
       "45. 'V44'\n",
       "\n",
       "\n"
      ],
      "text/plain": [
       " [1] \"class\" \"V1\"    \"V2\"    \"V3\"    \"V4\"    \"V5\"    \"V6\"    \"V7\"    \"V8\"   \n",
       "[10] \"V9\"    \"V10\"   \"V11\"   \"V12\"   \"V13\"   \"V14\"   \"V15\"   \"V16\"   \"V17\"  \n",
       "[19] \"V18\"   \"V19\"   \"V20\"   \"V21\"   \"V22\"   \"V23\"   \"V24\"   \"V25\"   \"V26\"  \n",
       "[28] \"V27\"   \"V28\"   \"V29\"   \"V30\"   \"V31\"   \"V32\"   \"V33\"   \"V34\"   \"V35\"  \n",
       "[37] \"V36\"   \"V37\"   \"V38\"   \"V39\"   \"V40\"   \"V41\"   \"V42\"   \"V43\"   \"V44\"  "
      ]
     },
     "metadata": {},
     "output_type": "display_data"
    },
    {
     "data": {
      "text/html": [
       "<table>\n",
       "<thead><tr><th scope=col>class</th><th scope=col>V1</th><th scope=col>V2</th><th scope=col>V3</th><th scope=col>V4</th><th scope=col>V5</th><th scope=col>V6</th><th scope=col>V7</th><th scope=col>V8</th><th scope=col>V9</th><th scope=col>...</th><th scope=col>V35</th><th scope=col>V36</th><th scope=col>V37</th><th scope=col>V38</th><th scope=col>V39</th><th scope=col>V40</th><th scope=col>V41</th><th scope=col>V42</th><th scope=col>V43</th><th scope=col>V44</th></tr></thead>\n",
       "<tbody>\n",
       "\t<tr><td>good         </td><td>0.2988590    </td><td> 0.02664480  </td><td>0.7270248    </td><td>0.2949204    </td><td>-0.22994857  </td><td>-0.9670840   </td><td> 0.298566014 </td><td> 1.1934422   </td><td>-0.6853142   </td><td>...          </td><td>-0.6728356   </td><td>0.9983772    </td><td> 1.1372249   </td><td>-0.1998925   </td><td> 0.52704310  </td><td>-0.7202060   </td><td> 1.19750619  </td><td> 0.1261180937</td><td> 0.1285237   </td><td> 0.8062949   </td></tr>\n",
       "\t<tr><td>bad          </td><td>0.3169362    </td><td>-0.02301861  </td><td>0.4260797    </td><td>0.2876117    </td><td>-0.15364686  </td><td> 1.7160769   </td><td>-0.320911050 </td><td>-0.6700623   </td><td>-0.4215685   </td><td>...          </td><td>-0.5348411   </td><td>0.9643536    </td><td> 0.6441793   </td><td>-0.6556092   </td><td>-0.05228452  </td><td>-0.2031203   </td><td> 1.07871962  </td><td>-0.2114704996</td><td>-0.3949234   </td><td>-0.1183326   </td></tr>\n",
       "\t<tr><td>good         </td><td>0.1739732    </td><td>-0.01949928  </td><td>0.5795199    </td><td>0.1986228    </td><td>-0.23703615  </td><td>-0.1036710   </td><td> 0.347404182 </td><td> 0.5831072   </td><td>-0.6177188   </td><td>...          </td><td>-0.7112064   </td><td>0.8815563    </td><td> 1.2398055   </td><td>-0.1241275   </td><td> 0.29380810  </td><td> 0.9337831   </td><td>-0.19398531  </td><td> 0.2708511651</td><td> 0.4073771   </td><td> 0.4535157   </td></tr>\n",
       "\t<tr><td>good         </td><td>0.2783186    </td><td>-0.50314999  </td><td>0.2694895    </td><td>0.1962338    </td><td>-0.05131048  </td><td> 1.8987650   </td><td>-0.317998677 </td><td>-0.5042549   </td><td>-0.5623726   </td><td>...          </td><td>-0.3496507   </td><td>0.8702026    </td><td>-0.1026245   </td><td> 0.3425280   </td><td>-0.19308472  </td><td>-0.2448388   </td><td> 0.43228424  </td><td> 0.0718162805</td><td> 0.1282938   </td><td> 0.5140558   </td></tr>\n",
       "\t<tr><td>bad          </td><td>0.1279388    </td><td>-0.04060237  </td><td>0.5745871    </td><td>0.2368194    </td><td>-0.01385167  </td><td>-0.4000261   </td><td> 0.592298865 </td><td> 0.2389601   </td><td>-0.6972760   </td><td>...          </td><td>-0.4354792   </td><td>0.7124652    </td><td>-0.5274684   </td><td> 1.0894878   </td><td> 0.26536006  </td><td>-0.3703429   </td><td> 0.80041146  </td><td> 0.0002095439</td><td> 0.3154130   </td><td> 0.3196360   </td></tr>\n",
       "\t<tr><td>good         </td><td>0.1838953    </td><td>-0.09080370  </td><td>0.6250991    </td><td>0.3012437    </td><td>-0.09137483  </td><td> 1.2492511   </td><td>-0.002668839 </td><td>-0.5423463   </td><td>-0.8327646   </td><td>...          </td><td>-0.4490818   </td><td>0.9289055    </td><td>-0.2701260   </td><td> 1.0281630   </td><td> 0.06396526  </td><td> 0.1565533   </td><td> 0.02355375  </td><td> 0.3519248366</td><td> 0.5893109   </td><td> 0.8974944   </td></tr>\n",
       "</tbody>\n",
       "</table>\n"
      ],
      "text/latex": [
       "\\begin{tabular}{r|lllllllllllllllllllllllllllllllllllllllllllll}\n",
       " class & V1 & V2 & V3 & V4 & V5 & V6 & V7 & V8 & V9 & ... & V35 & V36 & V37 & V38 & V39 & V40 & V41 & V42 & V43 & V44\\\\\n",
       "\\hline\n",
       "\t good          & 0.2988590     &  0.02664480   & 0.7270248     & 0.2949204     & -0.22994857   & -0.9670840    &  0.298566014  &  1.1934422    & -0.6853142    & ...           & -0.6728356    & 0.9983772     &  1.1372249    & -0.1998925    &  0.52704310   & -0.7202060    &  1.19750619   &  0.1261180937 &  0.1285237    &  0.8062949   \\\\\n",
       "\t bad           & 0.3169362     & -0.02301861   & 0.4260797     & 0.2876117     & -0.15364686   &  1.7160769    & -0.320911050  & -0.6700623    & -0.4215685    & ...           & -0.5348411    & 0.9643536     &  0.6441793    & -0.6556092    & -0.05228452   & -0.2031203    &  1.07871962   & -0.2114704996 & -0.3949234    & -0.1183326   \\\\\n",
       "\t good          & 0.1739732     & -0.01949928   & 0.5795199     & 0.1986228     & -0.23703615   & -0.1036710    &  0.347404182  &  0.5831072    & -0.6177188    & ...           & -0.7112064    & 0.8815563     &  1.2398055    & -0.1241275    &  0.29380810   &  0.9337831    & -0.19398531   &  0.2708511651 &  0.4073771    &  0.4535157   \\\\\n",
       "\t good          & 0.2783186     & -0.50314999   & 0.2694895     & 0.1962338     & -0.05131048   &  1.8987650    & -0.317998677  & -0.5042549    & -0.5623726    & ...           & -0.3496507    & 0.8702026     & -0.1026245    &  0.3425280    & -0.19308472   & -0.2448388    &  0.43228424   &  0.0718162805 &  0.1282938    &  0.5140558   \\\\\n",
       "\t bad           & 0.1279388     & -0.04060237   & 0.5745871     & 0.2368194     & -0.01385167   & -0.4000261    &  0.592298865  &  0.2389601    & -0.6972760    & ...           & -0.4354792    & 0.7124652     & -0.5274684    &  1.0894878    &  0.26536006   & -0.3703429    &  0.80041146   &  0.0002095439 &  0.3154130    &  0.3196360   \\\\\n",
       "\t good          & 0.1838953     & -0.09080370   & 0.6250991     & 0.3012437     & -0.09137483   &  1.2492511    & -0.002668839  & -0.5423463    & -0.8327646    & ...           & -0.4490818    & 0.9289055     & -0.2701260    &  1.0281630    &  0.06396526   &  0.1565533    &  0.02355375   &  0.3519248366 &  0.5893109    &  0.8974944   \\\\\n",
       "\\end{tabular}\n"
      ],
      "text/markdown": [
       "\n",
       "| class | V1 | V2 | V3 | V4 | V5 | V6 | V7 | V8 | V9 | ... | V35 | V36 | V37 | V38 | V39 | V40 | V41 | V42 | V43 | V44 |\n",
       "|---|---|---|---|---|---|---|---|---|---|---|---|---|---|---|---|---|---|---|---|---|\n",
       "| good          | 0.2988590     |  0.02664480   | 0.7270248     | 0.2949204     | -0.22994857   | -0.9670840    |  0.298566014  |  1.1934422    | -0.6853142    | ...           | -0.6728356    | 0.9983772     |  1.1372249    | -0.1998925    |  0.52704310   | -0.7202060    |  1.19750619   |  0.1261180937 |  0.1285237    |  0.8062949    |\n",
       "| bad           | 0.3169362     | -0.02301861   | 0.4260797     | 0.2876117     | -0.15364686   |  1.7160769    | -0.320911050  | -0.6700623    | -0.4215685    | ...           | -0.5348411    | 0.9643536     |  0.6441793    | -0.6556092    | -0.05228452   | -0.2031203    |  1.07871962   | -0.2114704996 | -0.3949234    | -0.1183326    |\n",
       "| good          | 0.1739732     | -0.01949928   | 0.5795199     | 0.1986228     | -0.23703615   | -0.1036710    |  0.347404182  |  0.5831072    | -0.6177188    | ...           | -0.7112064    | 0.8815563     |  1.2398055    | -0.1241275    |  0.29380810   |  0.9337831    | -0.19398531   |  0.2708511651 |  0.4073771    |  0.4535157    |\n",
       "| good          | 0.2783186     | -0.50314999   | 0.2694895     | 0.1962338     | -0.05131048   |  1.8987650    | -0.317998677  | -0.5042549    | -0.5623726    | ...           | -0.3496507    | 0.8702026     | -0.1026245    |  0.3425280    | -0.19308472   | -0.2448388    |  0.43228424   |  0.0718162805 |  0.1282938    |  0.5140558    |\n",
       "| bad           | 0.1279388     | -0.04060237   | 0.5745871     | 0.2368194     | -0.01385167   | -0.4000261    |  0.592298865  |  0.2389601    | -0.6972760    | ...           | -0.4354792    | 0.7124652     | -0.5274684    |  1.0894878    |  0.26536006   | -0.3703429    |  0.80041146   |  0.0002095439 |  0.3154130    |  0.3196360    |\n",
       "| good          | 0.1838953     | -0.09080370   | 0.6250991     | 0.3012437     | -0.09137483   |  1.2492511    | -0.002668839  | -0.5423463    | -0.8327646    | ...           | -0.4490818    | 0.9289055     | -0.2701260    |  1.0281630    |  0.06396526   |  0.1565533    |  0.02355375   |  0.3519248366 |  0.5893109    |  0.8974944    |\n",
       "\n"
      ],
      "text/plain": [
       "  class V1        V2          V3        V4        V5          V6        \n",
       "1 good  0.2988590  0.02664480 0.7270248 0.2949204 -0.22994857 -0.9670840\n",
       "2 bad   0.3169362 -0.02301861 0.4260797 0.2876117 -0.15364686  1.7160769\n",
       "3 good  0.1739732 -0.01949928 0.5795199 0.1986228 -0.23703615 -0.1036710\n",
       "4 good  0.2783186 -0.50314999 0.2694895 0.1962338 -0.05131048  1.8987650\n",
       "5 bad   0.1279388 -0.04060237 0.5745871 0.2368194 -0.01385167 -0.4000261\n",
       "6 good  0.1838953 -0.09080370 0.6250991 0.3012437 -0.09137483  1.2492511\n",
       "  V7           V8         V9         ... V35        V36       V37       \n",
       "1  0.298566014  1.1934422 -0.6853142 ... -0.6728356 0.9983772  1.1372249\n",
       "2 -0.320911050 -0.6700623 -0.4215685 ... -0.5348411 0.9643536  0.6441793\n",
       "3  0.347404182  0.5831072 -0.6177188 ... -0.7112064 0.8815563  1.2398055\n",
       "4 -0.317998677 -0.5042549 -0.5623726 ... -0.3496507 0.8702026 -0.1026245\n",
       "5  0.592298865  0.2389601 -0.6972760 ... -0.4354792 0.7124652 -0.5274684\n",
       "6 -0.002668839 -0.5423463 -0.8327646 ... -0.4490818 0.9289055 -0.2701260\n",
       "  V38        V39         V40        V41         V42           V43       \n",
       "1 -0.1998925  0.52704310 -0.7202060  1.19750619  0.1261180937  0.1285237\n",
       "2 -0.6556092 -0.05228452 -0.2031203  1.07871962 -0.2114704996 -0.3949234\n",
       "3 -0.1241275  0.29380810  0.9337831 -0.19398531  0.2708511651  0.4073771\n",
       "4  0.3425280 -0.19308472 -0.2448388  0.43228424  0.0718162805  0.1282938\n",
       "5  1.0894878  0.26536006 -0.3703429  0.80041146  0.0002095439  0.3154130\n",
       "6  1.0281630  0.06396526  0.1565533  0.02355375  0.3519248366  0.5893109\n",
       "  V44       \n",
       "1  0.8062949\n",
       "2 -0.1183326\n",
       "3  0.4535157\n",
       "4  0.5140558\n",
       "5  0.3196360\n",
       "6  0.8974944"
      ]
     },
     "metadata": {},
     "output_type": "display_data"
    },
    {
     "data": {
      "text/html": [
       "<ol class=list-inline>\n",
       "\t<li>1000</li>\n",
       "\t<li>45</li>\n",
       "</ol>\n"
      ],
      "text/latex": [
       "\\begin{enumerate*}\n",
       "\\item 1000\n",
       "\\item 45\n",
       "\\end{enumerate*}\n"
      ],
      "text/markdown": [
       "1. 1000\n",
       "2. 45\n",
       "\n",
       "\n"
      ],
      "text/plain": [
       "[1] 1000   45"
      ]
     },
     "metadata": {},
     "output_type": "display_data"
    }
   ],
   "source": [
    "#Autoencoder 3 - Generate Embedding----\n",
    "\n",
    "pred_all3 <- predict(model3, minmax_data_frame_train)\n",
    "\n",
    "pred_all3 <- as.data.frame(pred_all3)\n",
    "\n",
    "#bind with credit class\n",
    "credit4 <- cbind(credit$class, pred_all3)\n",
    "\n",
    "#change column name\n",
    "colnames(credit4)[1] <- c(\"class\")\n",
    "\n",
    "names(credit4)\n",
    "head(credit4)\n",
    "dim(credit4)"
   ]
  },
  {
   "cell_type": "markdown",
   "metadata": {},
   "source": [
    "**Autoencoder 1 - Logistic Regression**"
   ]
  },
  {
   "cell_type": "markdown",
   "metadata": {},
   "source": [
    "Use new measures in place of original explanatory variables in a LR to predict the class of each credit applicant"
   ]
  },
  {
   "cell_type": "code",
   "execution_count": 39,
   "metadata": {},
   "outputs": [
    {
     "name": "stdout",
     "output_type": "stream",
     "text": [
      "\n",
      "\n",
      "Cross-validation summary across folds:\n",
      "  baseprecision baserecall basef1Score basecost ruleprecision rulerecall\n",
      "1         0.500      0.271       0.352      231         0.319      1.000\n",
      "2         0.640      0.262       0.372      234         0.337      1.000\n",
      "3         0.484      0.263       0.341      226         0.303      0.982\n",
      "4         0.516      0.271       0.356      230         0.316      1.000\n",
      "5         0.500      0.219       0.304      264         0.350      1.000\n",
      "  rulef1Score rulecost\n",
      "1       0.484      126\n",
      "2       0.504      120\n",
      "3       0.463      134\n",
      "4       0.480      128\n",
      "5       0.518      119\n",
      "\n",
      "\n",
      "Cross-validation baseline results under STANDARD cutoff rules:\n",
      "    F1 Score:  0.345\n",
      "    Average cost per fold:  237 \n",
      "\n",
      "    Average precision per fold:  0.53 \n",
      "\n",
      "    Average recall per fold:  0.26 \n",
      "\n",
      "\n",
      "Cross-validation baseline results under cost cutoff rules:\n",
      "    F1 Score:  0.49\n",
      "    Average cost per fold:  125.4 \n",
      "\n",
      "    Average precision per fold:  0.32 \n",
      "\n",
      "    Average recall per fold:  1 \n"
     ]
    }
   ],
   "source": [
    "#Autoencoder 1 - LR Model ----\n",
    "# logistic regression evaluated with cross-validation\n",
    "\n",
    "credit_model = \"class ~ V1 + V2 + V3 + V4 + V5 + V6 + V7 + V8 + V9 + V10\n",
    "+ V11 + V12 + V13 + V14 + V15 + V16 + V17 + V18 + V19 + V20 + V21 + V22 + V23 + V24\n",
    "+ V25 + V26 + V27 + V28 + V29 + V30 + V31 + V32 + V33 + V34 + V35 + V36 + V37 + V38 + V39\n",
    "+ V40 + V41 + V42 + V43 + V44\" \n",
    "\n",
    "#cross validation folds, 5 fold cross validation\n",
    "set.seed(2)\n",
    "nfolds2 = 5\n",
    "folds2 = cvFolds(nrow(credit2), K = nfolds) # creates list of indices\n",
    "\n",
    "#compute precision, recall, f1 score, and cost ----\n",
    "#BASE (0 cutoff)\n",
    "baseprecision = rep(0, nfolds)  # precision with 0 cutoff\n",
    "baserecall = rep(0, nfolds)  # recall with  0 cutoff\n",
    "basef1Score = rep(0, nfolds)  # f1Score with 0 cutoff\n",
    "basecost = rep(0, nfolds)  # total cost with 0 cutoff\n",
    "\n",
    "#CUTOFF\n",
    "ruleprecision = rep(0, nfolds)  # precision with CUTOFF rule\n",
    "rulerecall = rep(0, nfolds)  # recall with CUTOFF rule\n",
    "rulef1Score = rep(0, nfolds)  # f1Score with CUTOFF rule\n",
    "rulecost = rep(0, nfolds)  # total cost with CUTOFF rule\n",
    "\n",
    "#looping, each fold, compute statistics for evaluating accuracy of cross validation and evaluate costs \n",
    "for (ifold in seq(nfolds)) {\n",
    "    # cat(\"\\n\\nSUMMARY FOR IFOLD:\", ifold) # checking in development\n",
    "    # print(summary(credit[(folds$which == ifold),]))\n",
    "  \n",
    "    # train model on all folds except ifold\n",
    "    train = credit2[(folds$which != ifold), ] #CREDIT2\n",
    "    \n",
    "    #test\n",
    "    test = credit2[(folds$which == ifold),] #CREDIT2\n",
    "    \n",
    "    #logistic model\n",
    "    credit_fit = glm(credit_model, family = binomial,\n",
    "        data = train)\n",
    "    \n",
    "    # evaluate on fold ifold    \n",
    "    # predict on test \n",
    "    credit_predict = predict.glm(credit_fit, \n",
    "        newdata = test, type = \"response\") \n",
    "    \n",
    "    #cutoff is because logistic model will consider \n",
    "    #BAD if > 0.5, GOOD < 0.5 in binomial model\n",
    "    \n",
    "    #(ModelMetrics library)\n",
    "    \n",
    "    #BASE \n",
    "    \n",
    "    #CUTOFF = 0.5 \n",
    "    #precision, recall, f1score, confusion matrix\n",
    "    #ppv = positive predictive value)\n",
    "    #subtract 1 because as.numeric changes good and bad to 1 and 2 respectively \n",
    "    \n",
    "    baseprecision[ifold] = ppv(as.numeric(test$class)-1, \n",
    "        credit_predict, cutoff = 0.5)  \n",
    "    baserecall[ifold] = recall(as.numeric(test$class)-1, \n",
    "        credit_predict, cutoff = 0.5) \n",
    "    basef1Score[ifold] = f1Score(as.numeric(test$class)-1, \n",
    "        credit_predict, cutoff = 0.5) \n",
    "    basecost[ifold] = sum(\n",
    "        confusionMatrix(as.numeric(test$class)-1,\n",
    "        credit_predict) * COSTMATRIX)  \n",
    "    \n",
    "    #CUTOFF \n",
    "    #precision, recall, f1Score, confusionMatrix\n",
    "    #ppv = positive predictive value)\n",
    "    #subtract 1 because as.numeric changes good and bad to 1 and 2 respectively \n",
    "    ruleprecision[ifold] = ppv(as.numeric(test$class)-1, \n",
    "        credit_predict, cutoff = CUTOFF)  \n",
    "    rulerecall[ifold] = recall(as.numeric(test$class)-1, \n",
    "        credit_predict, cutoff = CUTOFF) \n",
    "    rulef1Score[ifold] = f1Score(as.numeric(test$class)-1, \n",
    "        credit_predict, cutoff = CUTOFF)\n",
    "    rulecost[ifold] = sum(\n",
    "        confusionMatrix(as.numeric(test$class)-1, \n",
    "            credit_predict,cutoff=CUTOFF) * COSTMATRIX)                                    \n",
    "} \n",
    "\n",
    "#cvbaseline----\n",
    "#collect values\n",
    "cvbaseline2 = data.frame(baseprecision, baserecall, basef1Score, basecost,\n",
    "                        ruleprecision, rulerecall, rulef1Score, rulecost)\n",
    "\n",
    "cat(\"\\n\\nCross-validation summary across folds:\\n\")\n",
    "print(round(cvbaseline2, digits = 3))\n",
    "\n",
    "#Autoencoder 1 - Summary----\n",
    "cat(\"\\n\\nCross-validation baseline results under STANDARD cutoff rules:\")\n",
    "cat(\"\\n    F1 Score: \", round(mean(cvbaseline2$basef1Score), digits = 3))\n",
    "cat(\"\\n    Average cost per fold: \", \n",
    "    round(mean(cvbaseline2$basecost), digits = 2), \"\\n\")\n",
    "cat(\"\\n    Average precision per fold: \", \n",
    "    round(mean(cvbaseline2$baseprecision), digits = 2), \"\\n\")\n",
    "cat(\"\\n    Average recall per fold: \", \n",
    "    round(mean(cvbaseline2$baserecall), digits = 2), \"\\n\")\n",
    "\n",
    "cat(\"\\n\\nCross-validation baseline results under cost cutoff rules:\")\n",
    "cat(\"\\n    F1 Score: \", round(mean(cvbaseline2$rulef1Score), digits = 3))\n",
    "cat(\"\\n    Average cost per fold: \", \n",
    "    round(mean(cvbaseline2$rulecost), digits = 2), \"\\n\")\n",
    "cat(\"\\n    Average precision per fold: \", \n",
    "    round(mean(cvbaseline2$ruleprecision), digits = 2), \"\\n\")\n",
    "cat(\"\\n    Average recall per fold: \", \n",
    "    round(mean(cvbaseline2$rulerecall), digits = 2), \"\\n\")"
   ]
  },
  {
   "cell_type": "markdown",
   "metadata": {},
   "source": [
    "\n",
    "The F-score, also called the F1-score, is a measure of a model's accuracy on a dataset. ... The F-score is a way of combining the precision and recall of the model, and it is defined as the harmonic mean of the model's precision and recall.\n",
    "\n",
    "That is, a good F1 score means that you have low false positives and low false negatives, so you're correctly identifying real threats and you are not disturbed by false alarms. An F1 score is considered perfect when it's 1 , while the model is a total failure when it's 0 \n",
    "\n",
    "cost information and knowledge of prevelance of bad = cutoff rules \n"
   ]
  },
  {
   "cell_type": "markdown",
   "metadata": {},
   "source": [
    "The F1 Score is the 2*((precision*recall)/(precision+recall))."
   ]
  },
  {
   "cell_type": "code",
   "execution_count": null,
   "metadata": {},
   "outputs": [],
   "source": []
  },
  {
   "cell_type": "markdown",
   "metadata": {},
   "source": [
    "**Autoencoder 2 - Logistic Regression**"
   ]
  },
  {
   "cell_type": "markdown",
   "metadata": {},
   "source": [
    "Use new measures in place of original explanatory variables in a LR to predict the class of each credit applicant"
   ]
  },
  {
   "cell_type": "code",
   "execution_count": 41,
   "metadata": {},
   "outputs": [
    {
     "name": "stdout",
     "output_type": "stream",
     "text": [
      "\n",
      "\n",
      "Cross-validation summary across folds:\n",
      "  baseprecision baserecall basef1Score basecost ruleprecision rulerecall\n",
      "1         0.417      0.169       0.241      259         0.312      1.000\n",
      "2         0.684      0.213       0.325      246         0.323      1.000\n",
      "3         0.464      0.228       0.306      235         0.294      0.965\n",
      "4         0.516      0.271       0.356      230         0.303      1.000\n",
      "5         0.387      0.188       0.253      279         0.344      1.000\n",
      "  rulef1Score rulecost\n",
      "1       0.476      130\n",
      "2       0.488      128\n",
      "3       0.451      142\n",
      "4       0.465      136\n",
      "5       0.512      122\n",
      "\n",
      "\n",
      "Cross-validation baseline results under STANDARD cutoff rules:\n",
      "    F1 Score:  0.296\n",
      "    Average cost per fold:  249.8 \n",
      "\n",
      "    Average precision per fold:  0.49 \n",
      "\n",
      "    Average recall per fold:  0.21 \n",
      "\n",
      "\n",
      "Cross-validation baseline results under cost cutoff rules:\n",
      "    F1 Score:  0.478\n",
      "    Average cost per fold:  131.6 \n",
      "\n",
      "    Average precision per fold:  0.32 \n",
      "\n",
      "    Average recall per fold:  0.99 \n"
     ]
    }
   ],
   "source": [
    "#Autoencoder 2 - LR Model ----\n",
    "# logistic regression evaluated with cross-validation\n",
    "\n",
    "credit_model = \"class ~ V1 + V2 + V3 + V4 + V5 + V6 + V7 + V8 + V9 + V10\n",
    "+ V11 + V12 + V13 + V14 + V15 + V16 + V17 + V18 + V19 + V20 + V21 + V22 + V23 + V24\n",
    "+ V25 + V26 + V27 + V28 + V29 + V30 + V31 + V32 + V33 + V34 + V35 + V36 + V37 + V38 + V39\n",
    "+ V40 + V41 + V42 + V43 + V44\" \n",
    "\n",
    "#cross validation folds, 5 fold cross validation\n",
    "set.seed(2)\n",
    "nfolds2 = 5\n",
    "folds2 = cvFolds(nrow(credit3), K = nfolds) # creates list of indices\n",
    "\n",
    "#compute precision, recall, f1 score, and cost ----\n",
    "#BASE (0 cutoff)\n",
    "baseprecision = rep(0, nfolds)  # precision with 0 cutoff\n",
    "baserecall = rep(0, nfolds)  # recall with  0 cutoff\n",
    "basef1Score = rep(0, nfolds)  # f1Score with 0 cutoff\n",
    "basecost = rep(0, nfolds)  # total cost with 0 cutoff\n",
    "\n",
    "#CUTOFF\n",
    "ruleprecision = rep(0, nfolds)  # precision with CUTOFF rule\n",
    "rulerecall = rep(0, nfolds)  # recall with CUTOFF rule\n",
    "rulef1Score = rep(0, nfolds)  # f1Score with CUTOFF rule\n",
    "rulecost = rep(0, nfolds)  # total cost with CUTOFF rule\n",
    "\n",
    "#looping, each fold, compute statistics for evaluating accuracy of cross validation and evaluate costs \n",
    "for (ifold in seq(nfolds)) {\n",
    "    # cat(\"\\n\\nSUMMARY FOR IFOLD:\", ifold) # checking in development\n",
    "    # print(summary(credit[(folds$which == ifold),]))\n",
    "  \n",
    "    # train model on all folds except ifold\n",
    "    train = credit3[(folds$which != ifold), ] #CREDIT2\n",
    "    \n",
    "    #test\n",
    "    test = credit3[(folds$which == ifold),] #CREDIT2\n",
    "    \n",
    "    #logistic model\n",
    "    credit_fit = glm(credit_model, family = binomial,\n",
    "        data = train)\n",
    "    \n",
    "    # evaluate on fold ifold    \n",
    "    # predict on test \n",
    "    credit_predict = predict.glm(credit_fit, \n",
    "        newdata = test, type = \"response\") \n",
    "    \n",
    "    #cutoff is because logistic model will consider \n",
    "    #BAD if > 0.5, GOOD < 0.5 in binomial model\n",
    "    \n",
    "    #(ModelMetrics library)\n",
    "    \n",
    "    #BASE \n",
    "    \n",
    "    #CUTOFF = 0.5 \n",
    "    #precision, recall, f1score, confusion matrix\n",
    "    #ppv = positive predictive value)\n",
    "    #subtract 1 because as.numeric changes good and bad to 1 and 2 respectively \n",
    "    \n",
    "    baseprecision[ifold] = ppv(as.numeric(test$class)-1, \n",
    "        credit_predict, cutoff = 0.5)  \n",
    "    baserecall[ifold] = recall(as.numeric(test$class)-1, \n",
    "        credit_predict, cutoff = 0.5) \n",
    "    basef1Score[ifold] = f1Score(as.numeric(test$class)-1, \n",
    "        credit_predict, cutoff = 0.5) \n",
    "    basecost[ifold] = sum(\n",
    "        confusionMatrix(as.numeric(test$class)-1,\n",
    "        credit_predict) * COSTMATRIX)  \n",
    "    \n",
    "    #CUTOFF \n",
    "    #precision, recall, f1Score, confusionMatrix\n",
    "    #ppv = positive predictive value)\n",
    "    #subtract 1 because as.numeric changes good and bad to 1 and 2 respectively \n",
    "    ruleprecision[ifold] = ppv(as.numeric(test$class)-1, \n",
    "        credit_predict, cutoff = CUTOFF)  \n",
    "    rulerecall[ifold] = recall(as.numeric(test$class)-1, \n",
    "        credit_predict, cutoff = CUTOFF) \n",
    "    rulef1Score[ifold] = f1Score(as.numeric(test$class)-1, \n",
    "        credit_predict, cutoff = CUTOFF)\n",
    "    rulecost[ifold] = sum(\n",
    "        confusionMatrix(as.numeric(test$class)-1, \n",
    "            credit_predict,cutoff=CUTOFF) * COSTMATRIX)                                    \n",
    "} \n",
    "\n",
    "#cvbaseline----\n",
    "#collect values\n",
    "cvbaseline2 = data.frame(baseprecision, baserecall, basef1Score, basecost,\n",
    "                        ruleprecision, rulerecall, rulef1Score, rulecost)\n",
    "\n",
    "cat(\"\\n\\nCross-validation summary across folds:\\n\")\n",
    "print(round(cvbaseline2, digits = 3))\n",
    "\n",
    "#Autoencoder 1 - Summary----\n",
    "cat(\"\\n\\nCross-validation baseline results under STANDARD cutoff rules:\")\n",
    "cat(\"\\n    F1 Score: \", round(mean(cvbaseline2$basef1Score), digits = 3))\n",
    "cat(\"\\n    Average cost per fold: \", \n",
    "    round(mean(cvbaseline2$basecost), digits = 2), \"\\n\")\n",
    "cat(\"\\n    Average precision per fold: \", \n",
    "    round(mean(cvbaseline2$baseprecision), digits = 2), \"\\n\")\n",
    "cat(\"\\n    Average recall per fold: \", \n",
    "    round(mean(cvbaseline2$baserecall), digits = 2), \"\\n\")\n",
    "\n",
    "cat(\"\\n\\nCross-validation baseline results under cost cutoff rules:\")\n",
    "cat(\"\\n    F1 Score: \", round(mean(cvbaseline2$rulef1Score), digits = 3))\n",
    "cat(\"\\n    Average cost per fold: \", \n",
    "    round(mean(cvbaseline2$rulecost), digits = 2), \"\\n\")\n",
    "cat(\"\\n    Average precision per fold: \", \n",
    "    round(mean(cvbaseline2$ruleprecision), digits = 2), \"\\n\")\n",
    "cat(\"\\n    Average recall per fold: \", \n",
    "    round(mean(cvbaseline2$rulerecall), digits = 2), \"\\n\")"
   ]
  },
  {
   "cell_type": "code",
   "execution_count": null,
   "metadata": {},
   "outputs": [],
   "source": []
  },
  {
   "cell_type": "markdown",
   "metadata": {},
   "source": [
    "**Autoencoder 3 - Logistic Regression**"
   ]
  },
  {
   "cell_type": "markdown",
   "metadata": {},
   "source": [
    "Use new measures in place of original explanatory variables in a LR to predict the class of each credit applicant"
   ]
  },
  {
   "cell_type": "code",
   "execution_count": 43,
   "metadata": {},
   "outputs": [
    {
     "name": "stdout",
     "output_type": "stream",
     "text": [
      "\n",
      "\n",
      "Cross-validation summary across folds:\n",
      "  baseprecision baserecall basef1Score basecost ruleprecision rulerecall\n",
      "1         0.533      0.136       0.216      262         0.298          1\n",
      "2         0.500      0.098       0.164      281         0.307          1\n",
      "3         0.455      0.175       0.253      247         0.291          1\n",
      "4         0.435      0.169       0.244      258         0.299          1\n",
      "5         0.545      0.094       0.160      295         0.327          1\n",
      "  rulef1Score rulecost\n",
      "1       0.459      139\n",
      "2       0.469      138\n",
      "3       0.451      139\n",
      "4       0.461      138\n",
      "5       0.492      132\n",
      "\n",
      "\n",
      "Cross-validation baseline results under STANDARD cutoff rules:\n",
      "    F1 Score:  0.208\n",
      "    Average cost per fold:  268.6 \n",
      "\n",
      "    Average precision per fold:  0.49 \n",
      "\n",
      "    Average recall per fold:  0.13 \n",
      "\n",
      "\n",
      "Cross-validation baseline results under cost cutoff rules:\n",
      "    F1 Score:  0.466\n",
      "    Average cost per fold:  137.2 \n",
      "\n",
      "    Average precision per fold:  0.3 \n",
      "\n",
      "    Average recall per fold:  1 \n"
     ]
    }
   ],
   "source": [
    "#Autoencoder 3 - LR Model ----\n",
    "# logistic regression evaluated with cross-validation\n",
    "\n",
    "credit_model = \"class ~ V1 + V2 + V3 + V4 + V5 + V6 + V7 + V8 + V9 + V10\n",
    "+ V11 + V12 + V13 + V14 + V15 + V16 + V17 + V18 + V19 + V20 + V21 + V22 + V23 + V24\n",
    "+ V25 + V26 + V27 + V28 + V29 + V30 + V31 + V32 + V33 + V34 + V35 + V36 + V37 + V38 + V39\n",
    "+ V40 + V41 + V42 + V43 + V44\" \n",
    "\n",
    "#cross validation folds, 5 fold cross validation\n",
    "set.seed(2)\n",
    "nfolds = 5\n",
    "folds = cvFolds(nrow(credit3), K = nfolds) # creates list of indices\n",
    "\n",
    "#compute precision, recall, f1 score, and cost ----\n",
    "#BASE (0 cutoff)\n",
    "baseprecision = rep(0, nfolds)  # precision with 0 cutoff\n",
    "baserecall = rep(0, nfolds)  # recall with  0 cutoff\n",
    "basef1Score = rep(0, nfolds)  # f1Score with 0 cutoff\n",
    "basecost = rep(0, nfolds)  # total cost with 0 cutoff\n",
    "\n",
    "#CUTOFF\n",
    "ruleprecision = rep(0, nfolds)  # precision with CUTOFF rule\n",
    "rulerecall = rep(0, nfolds)  # recall with CUTOFF rule\n",
    "rulef1Score = rep(0, nfolds)  # f1Score with CUTOFF rule\n",
    "rulecost = rep(0, nfolds)  # total cost with CUTOFF rule\n",
    "\n",
    "#looping, each fold, compute statistics for evaluating accuracy of cross validation and evaluate costs \n",
    "for (ifold in seq(nfolds)) {\n",
    "    # cat(\"\\n\\nSUMMARY FOR IFOLD:\", ifold) # checking in development\n",
    "    # print(summary(credit[(folds$which == ifold),]))\n",
    "  \n",
    "    # train model on all folds except ifold\n",
    "    train = credit4[(folds$which != ifold), ] #CREDIT4\n",
    "    \n",
    "    #test\n",
    "    test = credit4[(folds$which == ifold),] #CREDIT4\n",
    "    \n",
    "    #logistic model\n",
    "    credit_fit = glm(credit_model, family = binomial,\n",
    "        data = train)\n",
    "    \n",
    "    # evaluate on fold ifold    \n",
    "    # predict on test \n",
    "    credit_predict = predict.glm(credit_fit, \n",
    "        newdata = test, type = \"response\") \n",
    "    \n",
    "    #cutoff is because logistic model will consider \n",
    "    #BAD if > 0.5, GOOD < 0.5 in binomial model\n",
    "    \n",
    "    #(ModelMetrics library)\n",
    "    \n",
    "    #BASE \n",
    "    \n",
    "    #CUTOFF = 0.5 \n",
    "    #precision, recall, f1score, confusion matrix\n",
    "    #ppv = positive predictive value)\n",
    "    #subtract 1 because as.numeric changes good and bad to 1 and 2 respectively \n",
    "    \n",
    "    baseprecision[ifold] = ppv(as.numeric(test$class)-1, \n",
    "        credit_predict, cutoff = 0.5)  \n",
    "    baserecall[ifold] = recall(as.numeric(test$class)-1, \n",
    "        credit_predict, cutoff = 0.5) \n",
    "    basef1Score[ifold] = f1Score(as.numeric(test$class)-1, \n",
    "        credit_predict, cutoff = 0.5) \n",
    "    basecost[ifold] = sum(\n",
    "        confusionMatrix(as.numeric(test$class)-1,\n",
    "        credit_predict) * COSTMATRIX)  \n",
    "    \n",
    "    #CUTOFF \n",
    "    #precision, recall, f1Score, confusionMatrix\n",
    "    #ppv = positive predictive value)\n",
    "    #subtract 1 because as.numeric changes good and bad to 1 and 2 respectively \n",
    "    ruleprecision[ifold] = ppv(as.numeric(test$class)-1, \n",
    "        credit_predict, cutoff = CUTOFF)  \n",
    "    rulerecall[ifold] = recall(as.numeric(test$class)-1, \n",
    "        credit_predict, cutoff = CUTOFF) \n",
    "    rulef1Score[ifold] = f1Score(as.numeric(test$class)-1, \n",
    "        credit_predict, cutoff = CUTOFF)\n",
    "    rulecost[ifold] = sum(\n",
    "        confusionMatrix(as.numeric(test$class)-1, \n",
    "            credit_predict,cutoff=CUTOFF) * COSTMATRIX)                                    \n",
    "} \n",
    "\n",
    "#cvbaseline----\n",
    "#collect values\n",
    "cvbaseline3 = data.frame(baseprecision, baserecall, basef1Score, basecost,\n",
    "                        ruleprecision, rulerecall, rulef1Score, rulecost)\n",
    "\n",
    "cat(\"\\n\\nCross-validation summary across folds:\\n\")\n",
    "print(round(cvbaseline3, digits = 3))\n",
    "\n",
    "#Autoencoder 1 - Summary----\n",
    "cat(\"\\n\\nCross-validation baseline results under STANDARD cutoff rules:\")\n",
    "cat(\"\\n    F1 Score: \", round(mean(cvbaseline3$basef1Score), digits = 3))\n",
    "cat(\"\\n    Average cost per fold: \", \n",
    "    round(mean(cvbaseline3$basecost), digits = 2), \"\\n\")\n",
    "cat(\"\\n    Average precision per fold: \", \n",
    "    round(mean(cvbaseline3$baseprecision), digits = 2), \"\\n\")\n",
    "cat(\"\\n    Average recall per fold: \", \n",
    "    round(mean(cvbaseline3$baserecall), digits = 2), \"\\n\")\n",
    "\n",
    "cat(\"\\n\\nCross-validation baseline results under cost cutoff rules:\")\n",
    "cat(\"\\n    F1 Score: \", round(mean(cvbaseline3$rulef1Score), digits = 3))\n",
    "cat(\"\\n    Average cost per fold: \", \n",
    "    round(mean(cvbaseline3$rulecost), digits = 2), \"\\n\")\n",
    "cat(\"\\n    Average precision per fold: \", \n",
    "    round(mean(cvbaseline3$ruleprecision), digits = 2), \"\\n\")\n",
    "cat(\"\\n    Average recall per fold: \", \n",
    "    round(mean(cvbaseline3$rulerecall), digits = 2), \"\\n\")"
   ]
  },
  {
   "cell_type": "code",
   "execution_count": null,
   "metadata": {},
   "outputs": [],
   "source": []
  }
 ],
 "metadata": {
  "kernelspec": {
   "display_name": "R",
   "language": "R",
   "name": "ir"
  },
  "language_info": {
   "codemirror_mode": "r",
   "file_extension": ".r",
   "mimetype": "text/x-r-source",
   "name": "R",
   "pygments_lexer": "r",
   "version": "3.6.1"
  }
 },
 "nbformat": 4,
 "nbformat_minor": 4
}
